{
 "cells": [
  {
   "cell_type": "code",
   "execution_count": 4,
   "id": "1dcd3bae",
   "metadata": {},
   "outputs": [],
   "source": [
    "import pandas as pd\n",
    "import os\n",
    "from os.path import join    \n",
    "sp_dir = '/Users/atecza/Library/CloudStorage/OneDrive-RMI/Documents/OCI Phase 2/Midstream/PRELIM_v1.6.xlsm'"
   ]
  },
  {
   "cell_type": "code",
   "execution_count": 65,
   "id": "0ff60211",
   "metadata": {},
   "outputs": [],
   "source": [
    "def extract_assay_info(file):\n",
    "    \n",
    "    df = pd.read_excel(file,sheet_name='Assay Inventory', na_values=['NA'], usecols=\"B:E\",skiprows=7, names=['Country', 'Selected Assay', 'Units', 'Full Crude'])\n",
    "    \n",
    "    country_list = []\n",
    "    assay_names = []\n",
    "    assay_numbers = []\n",
    "    units_flow = []\n",
    "    units_sulphur = []\n",
    "    units_api = []\n",
    "    full_crude_vol_flows = []\n",
    "    full_crude_sulphurs = []\n",
    "    full_crude_apis = []\n",
    "\n",
    "    for i in df.index:\n",
    "\n",
    "        if pd.notnull(df.at[i,'Country']):\n",
    "\n",
    "            country_list.append(df.at[i,'Country'])\n",
    "            assay_names.append(df.at[i,'Selected Assay'])\n",
    "            assay_numbers.append(df.at[i+1,'Units'])\n",
    "\n",
    "            #get vol flow\n",
    "            units_flow.append(df.at[i+3,'Units'])\n",
    "            full_crude_vol_flows.append(df.at[i+3,'Full Crude'])\n",
    "\n",
    "            #get sulpher\n",
    "            units_sulphur.append(df.at[i+6,'Units'])\n",
    "            full_crude_sulphurs.append(df.at[i+6,'Full Crude'])\n",
    "\n",
    "            #get api\n",
    "            units_api.append(df.at[i+8,'Units'])\n",
    "            full_crude_apis.append(df.at[i+8,'Full Crude'])\n",
    "\n",
    "\n",
    "\n",
    "    df_assay = pd.DataFrame(list(zip(country_list, assay_names, assay_numbers, units_flow, full_crude_vol_flows, units_sulphur, full_crude_sulphurs,units_api,full_crude_apis)), columns=['Country','Assay Name','Assay Number','Throughput Unit','Throughput','Sulphur Unit','Sulphur','API Unit','API'])\n",
    "    \n",
    "    return df_assay\n",
    "        "
   ]
  },
  {
   "cell_type": "code",
   "execution_count": null,
   "id": "05250d5a",
   "metadata": {},
   "outputs": [],
   "source": []
  }
 ],
 "metadata": {
  "kernelspec": {
   "display_name": "Python 3 (ipykernel)",
   "language": "python",
   "name": "python3"
  },
  "language_info": {
   "codemirror_mode": {
    "name": "ipython",
    "version": 3
   },
   "file_extension": ".py",
   "mimetype": "text/x-python",
   "name": "python",
   "nbconvert_exporter": "python",
   "pygments_lexer": "ipython3",
   "version": "3.9.7"
  }
 },
 "nbformat": 4,
 "nbformat_minor": 5
}

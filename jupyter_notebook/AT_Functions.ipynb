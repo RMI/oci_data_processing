{
 "cells": [
  {
   "cell_type": "code",
   "execution_count": 1,
   "id": "1dcd3bae",
   "metadata": {},
   "outputs": [],
   "source": [
    "import pandas as pd\n",
    "import os\n",
    "from os.path import join  \n",
    "import numpy as np\n",
    "import re\n",
    "from fuzzywuzzy import fuzz\n",
    "from fuzzywuzzy import process\n"
   ]
  },
  {
   "cell_type": "code",
   "execution_count": 2,
   "id": "c65c2be7",
   "metadata": {},
   "outputs": [],
   "source": [
    "prelim_dir = '/Users/atecza/Library/CloudStorage/OneDrive-RMI/Documents/OCI Phase 2/Midstream/PRELIM_v1.6.xlsm'"
   ]
  },
  {
   "cell_type": "code",
   "execution_count": 3,
   "id": "c28a927a",
   "metadata": {},
   "outputs": [],
   "source": [
    "sp_dir = '/Users/atecza/Library/CloudStorage/OneDrive-RMI/Documents/OCI Phase 2'"
   ]
  },
  {
   "cell_type": "code",
   "execution_count": 4,
   "id": "642e69cb",
   "metadata": {},
   "outputs": [
    {
     "name": "stderr",
     "output_type": "stream",
     "text": [
      "/var/folders/dl/sbgvnlps4h5_kfklrckvd58h0000gp/T/ipykernel_97649/1728311615.py:3: DtypeWarning: Columns (122,123,135,144) have mixed types. Specify dtype option on import or set low_memory=False.\n",
      "  opgee_df = pd.read_csv(opgee_path)\n"
     ]
    }
   ],
   "source": [
    "\n",
    "opgee_path = '/Users/atecza/Library/CloudStorage/OneDrive-RMI/Documents/ClimateTRACE Phase 4/csv/db_exports/trace_main_inputs.csv'\n",
    "\n",
    "opgee_df = pd.read_csv(opgee_path)\n"
   ]
  },
  {
   "cell_type": "markdown",
   "id": "3bd2a244",
   "metadata": {},
   "source": [
    "### Extract Assay Information"
   ]
  },
  {
   "cell_type": "code",
   "execution_count": 5,
   "id": "0ff60211",
   "metadata": {},
   "outputs": [],
   "source": [
    "def extract_assay_info(file):\n",
    "    \n",
    "    df = pd.read_excel(file,sheet_name='Assay Inventory', na_values=['NA'], usecols=\"B:E\",skiprows=7, names=['Country', 'Selected Assay', 'Units', 'Full Crude'])\n",
    "    \n",
    "    country_list = []\n",
    "    region_list = []\n",
    "    assay_names = []\n",
    "    assay_numbers = []\n",
    "    full_crude_vol_flows = []\n",
    "    full_crude_sulphurs = []\n",
    "    full_crude_apis = []\n",
    "\n",
    "    for i in df.index:\n",
    "        \n",
    "        country_region = df.at[i,'Country']\n",
    "        if pd.notnull(country_region):\n",
    "            \n",
    "            cr_list = country_region.split('-')\n",
    "            \n",
    "            if len(cr_list) > 1:\n",
    "                \n",
    "                country = cr_list[0]\n",
    "                region = cr_list[1]\n",
    "                \n",
    "                country_list.append(country)\n",
    "                region_list.append(region)\n",
    "            \n",
    "            else:\n",
    "                country_list.append(country_region)\n",
    "                region_list.append(np.nan)\n",
    "                \n",
    "            assay_names.append(df.at[i,'Selected Assay'])\n",
    "            assay_numbers.append(df.at[i+1,'Units'])\n",
    "\n",
    "            #get vol flow\n",
    "            full_crude_vol_flows.append(df.at[i+3,'Full Crude'])\n",
    "\n",
    "            #get sulpher\n",
    "            full_crude_sulphurs.append(df.at[i+6,'Full Crude'])\n",
    "\n",
    "            #get api\n",
    "            full_crude_apis.append(df.at[i+8,'Full Crude'])\n",
    "\n",
    "\n",
    "\n",
    "    #df_assay = pd.DataFrame(list(zip(country_list, region_list, assay_names, assay_numbers, units_flow, full_crude_vol_flows, units_sulphur, full_crude_sulphurs,units_api,full_crude_apis)), columns=['Country','Region','Assay Name','Assay Number','Throughput Unit','Throughput','Sulphur Unit','Sulphur','API Unit','API'])\n",
    "    df_assay = pd.DataFrame(list(zip(country_list, region_list, assay_names, assay_numbers, full_crude_vol_flows, full_crude_sulphurs,full_crude_apis)), columns=['Country','Region','Assay Name','Assay Number','Throughput','Sulphur','API'])\n",
    "    \n",
    "    return df_assay\n",
    "        "
   ]
  },
  {
   "cell_type": "code",
   "execution_count": 6,
   "id": "28999c96",
   "metadata": {},
   "outputs": [],
   "source": [
    "assay_df = extract_assay_info(prelim_dir)"
   ]
  },
  {
   "cell_type": "markdown",
   "id": "c5caa1e3",
   "metadata": {},
   "source": [
    "#### Separate Assay Name from Year"
   ]
  },
  {
   "cell_type": "code",
   "execution_count": 7,
   "id": "5b9c8e49",
   "metadata": {},
   "outputs": [],
   "source": [
    "\n",
    "split_assay_year = [int(re.findall(r'\\b\\d+\\b',x)[0]) if len(re.findall(r'\\b\\d+\\b',x))>0 else np.nan for x in assay_df['Assay Name']]\n",
    "assay_df['Year'] = [int(x) if x > 1000 else np.nan for x in split_assay_year]\n",
    "assay_df['Year'] = assay_df['Year'].astype('Int64')\n",
    "assay_df['Assay Name NN'] = [\" \".join(x.split()[:-1]) if x.split()[-1].isnumeric() else x for x in assay_df['Assay Name']]"
   ]
  },
  {
   "cell_type": "code",
   "execution_count": 8,
   "id": "79e97193",
   "metadata": {},
   "outputs": [],
   "source": [
    "assay_df['Country'].replace('US','United States', inplace=True)"
   ]
  },
  {
   "cell_type": "code",
   "execution_count": 9,
   "id": "185878aa",
   "metadata": {},
   "outputs": [],
   "source": [
    "assay_df['Country'].replace('Sudan','South Sudan', inplace=True) "
   ]
  },
  {
   "cell_type": "code",
   "execution_count": 10,
   "id": "782c2aa0",
   "metadata": {},
   "outputs": [],
   "source": [
    "assay_df['Country'].replace('Russia','Russian Federation', inplace=True)"
   ]
  },
  {
   "cell_type": "code",
   "execution_count": 11,
   "id": "7082a398",
   "metadata": {},
   "outputs": [],
   "source": [
    "assay_df['Country'].replace('Vietnam','Viet Nam', inplace=True)\n",
    "assay_df['Country'].replace('UK','United Kingdom', inplace=True)\n",
    "\n",
    "assay_df['Country'].replace(\"Cote d' Ivoire\",'Cote dIvoire', inplace=True)\n",
    "assay_df['Country'].replace('Republic of Congo','Congo', inplace=True)\n",
    "assay_df['Country'].replace('Papau New Guinea','Papua New Guinea', inplace=True)\n",
    "assay_df['Country'].replace('Timor Leste','Timor-Leste', inplace=True)\n",
    "assay_df['Country'].replace('Congo Republic','Congo', inplace=True)"
   ]
  },
  {
   "cell_type": "code",
   "execution_count": 12,
   "id": "40849ca7",
   "metadata": {},
   "outputs": [
    {
     "data": {
      "text/html": [
       "<div>\n",
       "<style scoped>\n",
       "    .dataframe tbody tr th:only-of-type {\n",
       "        vertical-align: middle;\n",
       "    }\n",
       "\n",
       "    .dataframe tbody tr th {\n",
       "        vertical-align: top;\n",
       "    }\n",
       "\n",
       "    .dataframe thead th {\n",
       "        text-align: right;\n",
       "    }\n",
       "</style>\n",
       "<table border=\"1\" class=\"dataframe\">\n",
       "  <thead>\n",
       "    <tr style=\"text-align: right;\">\n",
       "      <th></th>\n",
       "      <th>Country</th>\n",
       "      <th>Region</th>\n",
       "      <th>Assay Name</th>\n",
       "      <th>Assay Number</th>\n",
       "      <th>Throughput</th>\n",
       "      <th>Sulphur</th>\n",
       "      <th>API</th>\n",
       "      <th>Year</th>\n",
       "      <th>Assay Name NN</th>\n",
       "    </tr>\n",
       "  </thead>\n",
       "  <tbody>\n",
       "    <tr>\n",
       "      <th>0</th>\n",
       "      <td>Nigeria</td>\n",
       "      <td>NaN</td>\n",
       "      <td>Abo_Solomon 2010</td>\n",
       "      <td>11</td>\n",
       "      <td>100032.667139</td>\n",
       "      <td>0.147911</td>\n",
       "      <td>36.396513</td>\n",
       "      <td>2010</td>\n",
       "      <td>Abo_Solomon</td>\n",
       "    </tr>\n",
       "    <tr>\n",
       "      <th>1</th>\n",
       "      <td>Canada</td>\n",
       "      <td>Alberta</td>\n",
       "      <td>Access Western Blend_Crude Monitor</td>\n",
       "      <td>NaN</td>\n",
       "      <td>99851.088615</td>\n",
       "      <td>4.196450</td>\n",
       "      <td>22.640000</td>\n",
       "      <td>&lt;NA&gt;</td>\n",
       "      <td>Access Western Blend_Crude Monitor</td>\n",
       "    </tr>\n",
       "  </tbody>\n",
       "</table>\n",
       "</div>"
      ],
      "text/plain": [
       "   Country   Region                          Assay Name Assay Number  \\\n",
       "0  Nigeria      NaN                    Abo_Solomon 2010           11   \n",
       "1   Canada  Alberta  Access Western Blend_Crude Monitor          NaN   \n",
       "\n",
       "      Throughput   Sulphur        API  Year  \\\n",
       "0  100032.667139  0.147911  36.396513  2010   \n",
       "1   99851.088615  4.196450  22.640000  <NA>   \n",
       "\n",
       "                        Assay Name NN  \n",
       "0                         Abo_Solomon  \n",
       "1  Access Western Blend_Crude Monitor  "
      ]
     },
     "execution_count": 12,
     "metadata": {},
     "output_type": "execute_result"
    }
   ],
   "source": [
    "assay_df.head(2)"
   ]
  },
  {
   "cell_type": "markdown",
   "id": "19691e7b",
   "metadata": {},
   "source": [
    "### Import Field Data"
   ]
  },
  {
   "cell_type": "code",
   "execution_count": 13,
   "id": "e217b1e9",
   "metadata": {},
   "outputs": [],
   "source": [
    "opgee_df = opgee_df.loc[:,['Field_name','Field_location_Country','Region','US_state','API_gravity']]"
   ]
  },
  {
   "cell_type": "code",
   "execution_count": 14,
   "id": "1b8b47b7",
   "metadata": {},
   "outputs": [],
   "source": [
    "field_names_df = opgee_df.drop_duplicates(subset=['Field_name']).reset_index(drop=True)"
   ]
  },
  {
   "cell_type": "code",
   "execution_count": 15,
   "id": "6d6a50d3",
   "metadata": {},
   "outputs": [],
   "source": [
    "RMI_col = []\n",
    "Assay_col = []\n",
    "\n",
    "missing_list = ['Belgium', 'Bangladesh', 'Uzbekistan', 'France', 'Ireland',\n",
    "       'Chile', 'Ukraine', 'South Korea', 'Serbia', 'Israel',\n",
    "       'The Democratic Republic of the Congo', 'Barbados', 'Bolivia',\n",
    "       'Kyrgyzstan', 'Japan', 'Tanzania', 'Croatia', 'South Africa',\n",
    "       'Netherlands', 'Estonia', 'Mozambique', 'Slovenia', 'Greece',\n",
    "       'Senegal', 'Bulgaria', 'Morocco', 'Jordan', 'Georgia', 'Cuba',\n",
    "       'Benin', 'Myanmar', 'Belize', 'Suriname', 'Spain']\n",
    "\n",
    "for CN in missing_list:\n",
    "    fuzz_scores = process.extract(CN, assay_df['Country'], scorer=fuzz.token_set_ratio)\n",
    "    fuzz_high_scores = [x[0] for x in fuzz_scores if x[1] > 80]\n",
    "    if len(fuzz_high_scores) > 0:\n",
    "        Assay_col.append(fuzz_high_scores[0])\n",
    "        RMI_col.append(CN)\n",
    "        \n",
    "\n",
    "check_df = pd.DataFrame(list(zip(RMI_col, Assay_col)))\n"
   ]
  },
  {
   "cell_type": "code",
   "execution_count": 16,
   "id": "3c439900",
   "metadata": {},
   "outputs": [
    {
     "data": {
      "text/html": [
       "<div>\n",
       "<style scoped>\n",
       "    .dataframe tbody tr th:only-of-type {\n",
       "        vertical-align: middle;\n",
       "    }\n",
       "\n",
       "    .dataframe tbody tr th {\n",
       "        vertical-align: top;\n",
       "    }\n",
       "\n",
       "    .dataframe thead th {\n",
       "        text-align: right;\n",
       "    }\n",
       "</style>\n",
       "<table border=\"1\" class=\"dataframe\">\n",
       "  <thead>\n",
       "    <tr style=\"text-align: right;\">\n",
       "      <th></th>\n",
       "      <th>0</th>\n",
       "      <th>1</th>\n",
       "    </tr>\n",
       "  </thead>\n",
       "  <tbody>\n",
       "    <tr>\n",
       "      <th>0</th>\n",
       "      <td>The Democratic Republic of the Congo</td>\n",
       "      <td>Congo</td>\n",
       "    </tr>\n",
       "  </tbody>\n",
       "</table>\n",
       "</div>"
      ],
      "text/plain": [
       "                                      0      1\n",
       "0  The Democratic Republic of the Congo  Congo"
      ]
     },
     "execution_count": 16,
     "metadata": {},
     "output_type": "execute_result"
    }
   ],
   "source": [
    "check_df"
   ]
  },
  {
   "cell_type": "markdown",
   "id": "4dc63397",
   "metadata": {},
   "source": [
    "### Match Assay to Field Name"
   ]
  },
  {
   "cell_type": "markdown",
   "id": "766495c2",
   "metadata": {},
   "source": [
    "Will capture when multiple assays match a single field, will also capture when multiple fields match the same assay"
   ]
  },
  {
   "cell_type": "code",
   "execution_count": 17,
   "id": "717f7b8d",
   "metadata": {},
   "outputs": [],
   "source": [
    "rmi_name_list = []\n",
    "assay_matches = []\n",
    "fuzzy_check = []\n",
    "\n",
    "for i in field_names_df.index:\n",
    "    FN = field_names_df.at[i,'Field_name']\n",
    "    assay_names = assay_df['Assay Name NN'] #grab all the possible assay names\n",
    "    match_list = [x for x in assay_names if FN in x]\n",
    "    \n",
    "    #If more than one assay matches\n",
    "    if len(match_list) > 0:\n",
    "        \n",
    "        rmi_name_list.append(FN)\n",
    "        assay_matches.append(match_list)\n",
    "        fuzzy_check.append(0)\n",
    "        \n",
    "    if len(match_list) == 0:\n",
    "        \n",
    "        fuzz_scores = process.extract(FN, assay_names, scorer=fuzz.token_set_ratio)\n",
    "    \n",
    "        fuzz_high_scores = [x[0] for x in fuzz_scores if x[1] > 70]\n",
    "        \n",
    "        if len(fuzz_high_scores) > 0:\n",
    "            \n",
    "            rmi_name_list.append(FN)\n",
    "            assay_matches.append(fuzz_high_scores)\n",
    "            fuzzy_check.append(1)\n",
    "    \n",
    "        #If there are no exact matches and no fuzzy matches\n",
    "        else:\n",
    "            \n",
    "            if field_names_df.at[i,'Field_location_Country'] == 'United States':\n",
    "                State = field_names_df.at[i,'US_state']\n",
    "                state_match = assay_df[assay_df['Region']==State]['Assay Name NN'].values\n",
    "                \n",
    "                if len(state_match)>0:\n",
    "                    rmi_name_list.append(FN)\n",
    "                    assay_matches.append(state_match)\n",
    "                    fuzzy_check.append(0)\n",
    "                \n",
    "                #If no state match in US\n",
    "                else:\n",
    "                    country_match = assay_df[assay_df['Country']=='United States']['Assay Name NN'].values\n",
    "                    \n",
    "                    rmi_name_list.append(FN)\n",
    "                    assay_matches.append(country_match)\n",
    "                    fuzzy_check.append(0)\n",
    "                    \n",
    "                    \n",
    "            #If not in the US       \n",
    "            else:\n",
    "                CN = field_names_df.at[i,'Field_location_Country']\n",
    "                country_match = assay_df[assay_df['Country']==CN]['Assay Name NN'].values\n",
    "                \n",
    "                rmi_name_list.append(FN)\n",
    "                assay_matches.append(country_match)\n",
    "                fuzzy_check.append(0)\n",
    "                \n",
    "               \n",
    "                \n",
    "   \n",
    "    df_match = pd.DataFrame(list(zip(rmi_name_list, assay_matches, fuzzy_check)), columns=['RMI Name','Assay Match','Fuzzy'])\n"
   ]
  },
  {
   "cell_type": "markdown",
   "id": "76e26826",
   "metadata": {},
   "source": [
    "### Unpack the list of assay names"
   ]
  },
  {
   "cell_type": "code",
   "execution_count": 18,
   "id": "5f4a8869",
   "metadata": {},
   "outputs": [],
   "source": [
    "rmi_name = []\n",
    "assay_match_name =[]\n",
    "for i in df_match.index:\n",
    "    if len(df_match.at[i,'Assay Match']) > 0:\n",
    "        for match in df_match.at[i,'Assay Match']:\n",
    "            rmi_name.append(df_match.at[i,'RMI Name'])\n",
    "            assay_match_name.append(match)\n",
    "    else:\n",
    "        rmi_name.append(df_match.at[i,'RMI Name'])\n",
    "        assay_match_name.append(None)\n",
    "\n",
    "\n",
    "df_match_unpack = pd.DataFrame(list(zip(rmi_name, assay_match_name)), columns = ['RMI Name', 'Assay Name NN']) "
   ]
  },
  {
   "cell_type": "code",
   "execution_count": 19,
   "id": "9b40920c",
   "metadata": {},
   "outputs": [
    {
     "data": {
      "text/html": [
       "<div>\n",
       "<style scoped>\n",
       "    .dataframe tbody tr th:only-of-type {\n",
       "        vertical-align: middle;\n",
       "    }\n",
       "\n",
       "    .dataframe tbody tr th {\n",
       "        vertical-align: top;\n",
       "    }\n",
       "\n",
       "    .dataframe thead th {\n",
       "        text-align: right;\n",
       "    }\n",
       "</style>\n",
       "<table border=\"1\" class=\"dataframe\">\n",
       "  <thead>\n",
       "    <tr style=\"text-align: right;\">\n",
       "      <th></th>\n",
       "      <th>RMI Name</th>\n",
       "      <th>Assay Name NN</th>\n",
       "    </tr>\n",
       "  </thead>\n",
       "  <tbody>\n",
       "    <tr>\n",
       "      <th>262</th>\n",
       "      <td>Anderlues</td>\n",
       "      <td>None</td>\n",
       "    </tr>\n",
       "    <tr>\n",
       "      <th>655</th>\n",
       "      <td>Bibiyana</td>\n",
       "      <td>None</td>\n",
       "    </tr>\n",
       "    <tr>\n",
       "      <th>891</th>\n",
       "      <td>Bukhara-Khiva</td>\n",
       "      <td>None</td>\n",
       "    </tr>\n",
       "    <tr>\n",
       "      <th>1112</th>\n",
       "      <td>Cazaux</td>\n",
       "      <td>None</td>\n",
       "    </tr>\n",
       "    <tr>\n",
       "      <th>1124</th>\n",
       "      <td>Champotran</td>\n",
       "      <td>None</td>\n",
       "    </tr>\n",
       "    <tr>\n",
       "      <th>...</th>\n",
       "      <td>...</td>\n",
       "      <td>...</td>\n",
       "    </tr>\n",
       "    <tr>\n",
       "      <th>7073</th>\n",
       "      <td>Yablunivske</td>\n",
       "      <td>None</td>\n",
       "    </tr>\n",
       "    <tr>\n",
       "      <th>7074</th>\n",
       "      <td>Yadana</td>\n",
       "      <td>None</td>\n",
       "    </tr>\n",
       "    <tr>\n",
       "      <th>7095</th>\n",
       "      <td>Yapacani</td>\n",
       "      <td>None</td>\n",
       "    </tr>\n",
       "    <tr>\n",
       "      <th>7289</th>\n",
       "      <td>Zawtika</td>\n",
       "      <td>None</td>\n",
       "    </tr>\n",
       "    <tr>\n",
       "      <th>7290</th>\n",
       "      <td>Zevardi-Alan</td>\n",
       "      <td>None</td>\n",
       "    </tr>\n",
       "  </tbody>\n",
       "</table>\n",
       "<p>61 rows × 2 columns</p>\n",
       "</div>"
      ],
      "text/plain": [
       "           RMI Name Assay Name NN\n",
       "262       Anderlues          None\n",
       "655        Bibiyana          None\n",
       "891   Bukhara-Khiva          None\n",
       "1112         Cazaux          None\n",
       "1124     Champotran          None\n",
       "...             ...           ...\n",
       "7073    Yablunivske          None\n",
       "7074         Yadana          None\n",
       "7095       Yapacani          None\n",
       "7289        Zawtika          None\n",
       "7290   Zevardi-Alan          None\n",
       "\n",
       "[61 rows x 2 columns]"
      ]
     },
     "execution_count": 19,
     "metadata": {},
     "output_type": "execute_result"
    }
   ],
   "source": [
    "df_match_unpack[pd.isnull(df_match_unpack['Assay Name NN'])]"
   ]
  },
  {
   "cell_type": "markdown",
   "id": "74b6f642",
   "metadata": {},
   "source": [
    "#### Merge the Assay information into the RMI Name"
   ]
  },
  {
   "cell_type": "code",
   "execution_count": 20,
   "id": "1b947344",
   "metadata": {},
   "outputs": [],
   "source": [
    "df_full_match = df_match_unpack.merge(assay_df, how='left', on='Assay Name NN')"
   ]
  },
  {
   "cell_type": "code",
   "execution_count": 22,
   "id": "10f61bb4",
   "metadata": {},
   "outputs": [],
   "source": [
    "#df_full_match[pd.isnull(df_full_match['Assay Name NN'])]"
   ]
  },
  {
   "cell_type": "markdown",
   "id": "443e2918",
   "metadata": {},
   "source": [
    "### Merge with Field Info From Runs"
   ]
  },
  {
   "cell_type": "code",
   "execution_count": 23,
   "id": "64a5eaea",
   "metadata": {},
   "outputs": [],
   "source": [
    "# opgee_output_path = '/Users/atecza/Library/CloudStorage/OneDrive-RMI/Documents/ClimateTRACE Phase 4/csv/db_exports/trace_main_outputs.csv'\n",
    "# opgee_outpus = pd.read_csv(opgee_output_path)\n",
    "# opgee_outputs_2 = opgee_outpus.loc[:,['Field_name','Region','API_gravity']] #'Gas_composition_H2S'\n",
    "# opgee_outputs_2.rename(columns={'Year':'RMI Year','Region':'RMI Region','API_gravity':'RMI API'}, inplace=True)\n",
    "# opgee_outputs_group = opgee_outputs_2.groupby('Field_name').first().reset_index()\n",
    "# opgee_assay_full = df_full_match.merge(opgee_outputs_group, how = 'left', left_on ='RMI Name', right_on='Field_name')"
   ]
  },
  {
   "cell_type": "code",
   "execution_count": 23,
   "id": "1dbf7dbb",
   "metadata": {},
   "outputs": [],
   "source": [
    "opgee_assay_full = df_full_match.merge(field_names_df, how = 'left', left_on ='RMI Name', right_on='Field_name')"
   ]
  },
  {
   "cell_type": "code",
   "execution_count": 25,
   "id": "63edce62",
   "metadata": {},
   "outputs": [],
   "source": [
    "#opgee_assay_full[pd.isnull(opgee_assay_full['Assay Name NN'])].loc[:,'Field_location_Country'].unique()"
   ]
  },
  {
   "cell_type": "code",
   "execution_count": 26,
   "id": "0bf2accc",
   "metadata": {},
   "outputs": [],
   "source": [
    "opgee_assay_full.drop(columns=['Field_name','Region_x','Country'], inplace=True)"
   ]
  },
  {
   "cell_type": "code",
   "execution_count": 33,
   "id": "a724e921",
   "metadata": {},
   "outputs": [],
   "source": [
    "#opgee_assay_full"
   ]
  },
  {
   "cell_type": "code",
   "execution_count": 34,
   "id": "b4321f19",
   "metadata": {},
   "outputs": [],
   "source": [
    "opgee_assay_full['API Difference'] = abs(opgee_assay_full['API'] - opgee_assay_full['API_gravity'])"
   ]
  },
  {
   "cell_type": "code",
   "execution_count": 36,
   "id": "591634ec",
   "metadata": {},
   "outputs": [],
   "source": [
    "#opgee_assay_full[pd.isnull(opgee_assay_full['API Difference'])]"
   ]
  },
  {
   "cell_type": "code",
   "execution_count": 42,
   "id": "8706e4c2",
   "metadata": {},
   "outputs": [],
   "source": [
    "series_list = []\n",
    "df_group = opgee_assay_full.groupby('RMI Name')\n",
    "\n",
    "for name_of_group, contents_of_group in df_group:\n",
    "    \n",
    "    df1 = df_group.get_group(name_of_group)\n",
    "    \n",
    "    #If any of the assays in the RMI Field group have an NA, use API Difference\n",
    "    if df1['Year'].isnull().any():\n",
    "        \n",
    "        #If there is an API Difference\n",
    "        if df1['API Difference'].notnull().all():\n",
    "        \n",
    "            series_list.append(df1.loc[df1['API Difference'].idxmin()])\n",
    "        \n",
    "        else:\n",
    "            #Take the first row\n",
    "            series_list.append(df1.iloc[0,:])\n",
    "    \n",
    "    else:\n",
    "        series_list.append(df1.loc[df1['Year'].idxmax()])\n",
    "\n",
    "df_g = pd.concat(series_list, axis=1).T"
   ]
  },
  {
   "cell_type": "code",
   "execution_count": 43,
   "id": "f6b7828e",
   "metadata": {},
   "outputs": [
    {
     "name": "stdout",
     "output_type": "stream",
     "text": [
      "585\n",
      "585\n"
     ]
    }
   ],
   "source": [
    "print(opgee_assay_full.groupby('RMI Name').ngroups)\n",
    "print(len(df_g))"
   ]
  },
  {
   "cell_type": "code",
   "execution_count": 44,
   "id": "2921863a",
   "metadata": {},
   "outputs": [
    {
     "data": {
      "text/html": [
       "<div>\n",
       "<style scoped>\n",
       "    .dataframe tbody tr th:only-of-type {\n",
       "        vertical-align: middle;\n",
       "    }\n",
       "\n",
       "    .dataframe tbody tr th {\n",
       "        vertical-align: top;\n",
       "    }\n",
       "\n",
       "    .dataframe thead th {\n",
       "        text-align: right;\n",
       "    }\n",
       "</style>\n",
       "<table border=\"1\" class=\"dataframe\">\n",
       "  <thead>\n",
       "    <tr style=\"text-align: right;\">\n",
       "      <th></th>\n",
       "      <th>RMI Name</th>\n",
       "      <th>Assay Name NN</th>\n",
       "      <th>Assay Name</th>\n",
       "      <th>Assay Number</th>\n",
       "      <th>Throughput</th>\n",
       "      <th>Sulphur</th>\n",
       "      <th>API</th>\n",
       "      <th>Year</th>\n",
       "      <th>Field_location_Country</th>\n",
       "      <th>Region_y</th>\n",
       "      <th>US_state</th>\n",
       "      <th>API_gravity</th>\n",
       "      <th>API Difference</th>\n",
       "    </tr>\n",
       "  </thead>\n",
       "  <tbody>\n",
       "    <tr>\n",
       "      <th>1</th>\n",
       "      <td>Abana</td>\n",
       "      <td>Kole_Solomon</td>\n",
       "      <td>Kole_Solomon 2014</td>\n",
       "      <td>NaN</td>\n",
       "      <td>100028.976072</td>\n",
       "      <td>0.347871</td>\n",
       "      <td>30.832788</td>\n",
       "      <td>2014</td>\n",
       "      <td>Cameroon</td>\n",
       "      <td>West Africa</td>\n",
       "      <td>Not US</td>\n",
       "      <td>29.0</td>\n",
       "      <td>1.832788</td>\n",
       "    </tr>\n",
       "    <tr>\n",
       "      <th>9</th>\n",
       "      <td>Abqaiq</td>\n",
       "      <td>Arab Light_Solomon</td>\n",
       "      <td>Arab Light_Solomon 2016</td>\n",
       "      <td>NaN</td>\n",
       "      <td>100037.209515</td>\n",
       "      <td>1.896356</td>\n",
       "      <td>34.515023</td>\n",
       "      <td>2016</td>\n",
       "      <td>Saudi Arabia</td>\n",
       "      <td>Middle East</td>\n",
       "      <td>Not US</td>\n",
       "      <td>37.0</td>\n",
       "      <td>2.484977</td>\n",
       "    </tr>\n",
       "    <tr>\n",
       "      <th>22</th>\n",
       "      <td>Abu El Gharadiq</td>\n",
       "      <td>Qarun_Solomon</td>\n",
       "      <td>Qarun_Solomon 2018</td>\n",
       "      <td>NaN</td>\n",
       "      <td>100023.445278</td>\n",
       "      <td>0.297064</td>\n",
       "      <td>35.515013</td>\n",
       "      <td>2018</td>\n",
       "      <td>Egypt</td>\n",
       "      <td>North Africa</td>\n",
       "      <td>Not US</td>\n",
       "      <td>35.0</td>\n",
       "      <td>0.515013</td>\n",
       "    </tr>\n",
       "    <tr>\n",
       "      <th>30</th>\n",
       "      <td>Abu Sa fah</td>\n",
       "      <td>Arab Heavy_Solomon</td>\n",
       "      <td>Arab Heavy_Solomon 2008</td>\n",
       "      <td>NaN</td>\n",
       "      <td>100043.156183</td>\n",
       "      <td>2.832999</td>\n",
       "      <td>28.525567</td>\n",
       "      <td>2008</td>\n",
       "      <td>Saudi Arabia</td>\n",
       "      <td>Middle East</td>\n",
       "      <td>Not US</td>\n",
       "      <td>28.6</td>\n",
       "      <td>0.074433</td>\n",
       "    </tr>\n",
       "    <tr>\n",
       "      <th>39</th>\n",
       "      <td>Abushar</td>\n",
       "      <td>Iran Ardeshir_COA</td>\n",
       "      <td>Iran Ardeshir_COA</td>\n",
       "      <td>98</td>\n",
       "      <td>100398.194653</td>\n",
       "      <td>2.547449</td>\n",
       "      <td>26.9</td>\n",
       "      <td>&lt;NA&gt;</td>\n",
       "      <td>Iran</td>\n",
       "      <td>Middle East</td>\n",
       "      <td>Not US</td>\n",
       "      <td>26.0</td>\n",
       "      <td>0.9</td>\n",
       "    </tr>\n",
       "    <tr>\n",
       "      <th>...</th>\n",
       "      <td>...</td>\n",
       "      <td>...</td>\n",
       "      <td>...</td>\n",
       "      <td>...</td>\n",
       "      <td>...</td>\n",
       "      <td>...</td>\n",
       "      <td>...</td>\n",
       "      <td>...</td>\n",
       "      <td>...</td>\n",
       "      <td>...</td>\n",
       "      <td>...</td>\n",
       "      <td>...</td>\n",
       "      <td>...</td>\n",
       "    </tr>\n",
       "    <tr>\n",
       "      <th>7824</th>\n",
       "      <td>Zhanazhol</td>\n",
       "      <td>Tengiz_Solomon</td>\n",
       "      <td>Tengiz_Solomon 2007</td>\n",
       "      <td>NaN</td>\n",
       "      <td>100037.158812</td>\n",
       "      <td>0.46393</td>\n",
       "      <td>50.477739</td>\n",
       "      <td>2007</td>\n",
       "      <td>Kazakhstan</td>\n",
       "      <td>Central Asia</td>\n",
       "      <td>Not US</td>\n",
       "      <td>49.3</td>\n",
       "      <td>1.177739</td>\n",
       "    </tr>\n",
       "    <tr>\n",
       "      <th>7828</th>\n",
       "      <td>Zinia</td>\n",
       "      <td>Angola Kuito_Chevron</td>\n",
       "      <td>Angola Kuito_Chevron</td>\n",
       "      <td>36</td>\n",
       "      <td>96240.387983</td>\n",
       "      <td>0.871157</td>\n",
       "      <td>22.05</td>\n",
       "      <td>&lt;NA&gt;</td>\n",
       "      <td>Angola</td>\n",
       "      <td>West Africa</td>\n",
       "      <td>Not US</td>\n",
       "      <td>20.0</td>\n",
       "      <td>2.05</td>\n",
       "    </tr>\n",
       "    <tr>\n",
       "      <th>7863</th>\n",
       "      <td>Zohr</td>\n",
       "      <td>Western Desert_Solomon</td>\n",
       "      <td>Western Desert_Solomon 2017</td>\n",
       "      <td>NaN</td>\n",
       "      <td>100033.685632</td>\n",
       "      <td>0.325706</td>\n",
       "      <td>41.958891</td>\n",
       "      <td>2017</td>\n",
       "      <td>Egypt</td>\n",
       "      <td>North Africa</td>\n",
       "      <td>Not US</td>\n",
       "      <td>50.0</td>\n",
       "      <td>8.041109</td>\n",
       "    </tr>\n",
       "    <tr>\n",
       "      <th>7870</th>\n",
       "      <td>Zubair</td>\n",
       "      <td>Kirkuk_Solomon</td>\n",
       "      <td>Kirkuk_Solomon 2015</td>\n",
       "      <td>NaN</td>\n",
       "      <td>100042.08128</td>\n",
       "      <td>2.25189</td>\n",
       "      <td>34.901123</td>\n",
       "      <td>2015</td>\n",
       "      <td>Iraq</td>\n",
       "      <td>Middle East</td>\n",
       "      <td>Not US</td>\n",
       "      <td>35.0</td>\n",
       "      <td>0.098877</td>\n",
       "    </tr>\n",
       "    <tr>\n",
       "      <th>7887</th>\n",
       "      <td>Zuluf</td>\n",
       "      <td>Arabian Medium_Solomon</td>\n",
       "      <td>Arabian Medium_Solomon 2001</td>\n",
       "      <td>NaN</td>\n",
       "      <td>100042.187042</td>\n",
       "      <td>2.439814</td>\n",
       "      <td>31.634859</td>\n",
       "      <td>2001</td>\n",
       "      <td>Saudi Arabia</td>\n",
       "      <td>Middle East</td>\n",
       "      <td>Not US</td>\n",
       "      <td>32.0</td>\n",
       "      <td>0.365141</td>\n",
       "    </tr>\n",
       "  </tbody>\n",
       "</table>\n",
       "<p>585 rows × 13 columns</p>\n",
       "</div>"
      ],
      "text/plain": [
       "             RMI Name           Assay Name NN                   Assay Name  \\\n",
       "1               Abana            Kole_Solomon            Kole_Solomon 2014   \n",
       "9              Abqaiq      Arab Light_Solomon      Arab Light_Solomon 2016   \n",
       "22    Abu El Gharadiq           Qarun_Solomon           Qarun_Solomon 2018   \n",
       "30         Abu Sa fah      Arab Heavy_Solomon      Arab Heavy_Solomon 2008   \n",
       "39            Abushar       Iran Ardeshir_COA            Iran Ardeshir_COA   \n",
       "...               ...                     ...                          ...   \n",
       "7824        Zhanazhol          Tengiz_Solomon          Tengiz_Solomon 2007   \n",
       "7828            Zinia    Angola Kuito_Chevron         Angola Kuito_Chevron   \n",
       "7863             Zohr  Western Desert_Solomon  Western Desert_Solomon 2017   \n",
       "7870           Zubair          Kirkuk_Solomon          Kirkuk_Solomon 2015   \n",
       "7887            Zuluf  Arabian Medium_Solomon  Arabian Medium_Solomon 2001   \n",
       "\n",
       "     Assay Number     Throughput   Sulphur        API  Year  \\\n",
       "1             NaN  100028.976072  0.347871  30.832788  2014   \n",
       "9             NaN  100037.209515  1.896356  34.515023  2016   \n",
       "22            NaN  100023.445278  0.297064  35.515013  2018   \n",
       "30            NaN  100043.156183  2.832999  28.525567  2008   \n",
       "39             98  100398.194653  2.547449       26.9  <NA>   \n",
       "...           ...            ...       ...        ...   ...   \n",
       "7824          NaN  100037.158812   0.46393  50.477739  2007   \n",
       "7828           36   96240.387983  0.871157      22.05  <NA>   \n",
       "7863          NaN  100033.685632  0.325706  41.958891  2017   \n",
       "7870          NaN   100042.08128   2.25189  34.901123  2015   \n",
       "7887          NaN  100042.187042  2.439814  31.634859  2001   \n",
       "\n",
       "     Field_location_Country      Region_y US_state API_gravity API Difference  \n",
       "1                  Cameroon   West Africa   Not US        29.0       1.832788  \n",
       "9              Saudi Arabia   Middle East   Not US        37.0       2.484977  \n",
       "22                    Egypt  North Africa   Not US        35.0       0.515013  \n",
       "30             Saudi Arabia   Middle East   Not US        28.6       0.074433  \n",
       "39                     Iran   Middle East   Not US        26.0            0.9  \n",
       "...                     ...           ...      ...         ...            ...  \n",
       "7824             Kazakhstan  Central Asia   Not US        49.3       1.177739  \n",
       "7828                 Angola   West Africa   Not US        20.0           2.05  \n",
       "7863                  Egypt  North Africa   Not US        50.0       8.041109  \n",
       "7870                   Iraq   Middle East   Not US        35.0       0.098877  \n",
       "7887           Saudi Arabia   Middle East   Not US        32.0       0.365141  \n",
       "\n",
       "[585 rows x 13 columns]"
      ]
     },
     "execution_count": 44,
     "metadata": {},
     "output_type": "execute_result"
    }
   ],
   "source": [
    "df_g"
   ]
  },
  {
   "cell_type": "code",
   "execution_count": 45,
   "id": "7ce2a53d",
   "metadata": {},
   "outputs": [],
   "source": [
    "df_g.to_excel('/Users/atecza/Library/CloudStorage/OneDrive-RMI/Documents/OCI Phase 2/Midstream/Assay_rematch/assay_match_df.xlsx', index=False)\n"
   ]
  },
  {
   "cell_type": "markdown",
   "id": "e315430e",
   "metadata": {},
   "source": [
    "### Old Code/Sandbox"
   ]
  },
  {
   "cell_type": "code",
   "execution_count": 315,
   "id": "58e63c7d",
   "metadata": {},
   "outputs": [],
   "source": [
    "assay_df['API Diff Normalized'] = abs((assay_df['API'] - assay_df['API'].mean())/(assay_df['API'].std()))\n",
    "#assay_df['API Normalized'] = abs((assay_df['API'] - assay_df['API'].mean())/(assay_df['API'].std()))"
   ]
  },
  {
   "cell_type": "code",
   "execution_count": 109,
   "id": "1face4db",
   "metadata": {},
   "outputs": [],
   "source": [
    "def closest_val(lst, K):\n",
    "    closest_val_list = []\n",
    "    dif_list = [abs(x-K) for x in lst]\n",
    "    s = min(dif_list)\n",
    "\n",
    "    i_list = [i for i, x in enumerate(dif_list) if x == s]\n",
    "\n",
    "    for index in i_list:\n",
    "        closest_val_list.append(lst[index])\n",
    "    \n",
    "    return closest_val_list"
   ]
  }
 ],
 "metadata": {
  "kernelspec": {
   "display_name": "Python 3 (ipykernel)",
   "language": "python",
   "name": "python3"
  },
  "language_info": {
   "codemirror_mode": {
    "name": "ipython",
    "version": 3
   },
   "file_extension": ".py",
   "mimetype": "text/x-python",
   "name": "python",
   "nbconvert_exporter": "python",
   "pygments_lexer": "ipython3",
   "version": "3.10.2"
  }
 },
 "nbformat": 4,
 "nbformat_minor": 5
}

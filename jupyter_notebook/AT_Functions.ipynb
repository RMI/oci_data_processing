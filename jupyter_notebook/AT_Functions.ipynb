{
 "cells": [
  {
   "cell_type": "code",
   "execution_count": 68,
   "id": "1dcd3bae",
   "metadata": {},
   "outputs": [
    {
     "ename": "ModuleNotFoundError",
     "evalue": "No module named 'fuzzywuzzy'",
     "output_type": "error",
     "traceback": [
      "\u001b[0;31m---------------------------------------------------------------------------\u001b[0m",
      "\u001b[0;31mModuleNotFoundError\u001b[0m                       Traceback (most recent call last)",
      "\u001b[0;32m/var/folders/dl/sbgvnlps4h5_kfklrckvd58h0000gp/T/ipykernel_33183/2502032099.py\u001b[0m in \u001b[0;36m<module>\u001b[0;34m\u001b[0m\n\u001b[1;32m      3\u001b[0m \u001b[0;32mfrom\u001b[0m \u001b[0mos\u001b[0m\u001b[0;34m.\u001b[0m\u001b[0mpath\u001b[0m \u001b[0;32mimport\u001b[0m \u001b[0mjoin\u001b[0m\u001b[0;34m\u001b[0m\u001b[0;34m\u001b[0m\u001b[0m\n\u001b[1;32m      4\u001b[0m \u001b[0;32mimport\u001b[0m \u001b[0mnumpy\u001b[0m \u001b[0;32mas\u001b[0m \u001b[0mnp\u001b[0m\u001b[0;34m\u001b[0m\u001b[0;34m\u001b[0m\u001b[0m\n\u001b[0;32m----> 5\u001b[0;31m \u001b[0;32mfrom\u001b[0m \u001b[0mfuzzywuzzy\u001b[0m \u001b[0;32mimport\u001b[0m \u001b[0mfuzz\u001b[0m\u001b[0;34m\u001b[0m\u001b[0;34m\u001b[0m\u001b[0m\n\u001b[0m\u001b[1;32m      6\u001b[0m \u001b[0;32mfrom\u001b[0m \u001b[0mfuzzywuzzy\u001b[0m \u001b[0;32mimport\u001b[0m \u001b[0mprocess\u001b[0m\u001b[0;34m\u001b[0m\u001b[0;34m\u001b[0m\u001b[0m\n",
      "\u001b[0;31mModuleNotFoundError\u001b[0m: No module named 'fuzzywuzzy'"
     ]
    }
   ],
   "source": [
    "import pandas as pd\n",
    "import os\n",
    "from os.path import join  \n",
    "import numpy as np\n",
    "from fuzzywuzzy import fuzz\n",
    "from fuzzywuzzy import process\n"
   ]
  },
  {
   "cell_type": "code",
   "execution_count": 2,
   "id": "c65c2be7",
   "metadata": {},
   "outputs": [],
   "source": [
    "prelim_dir = '/Users/atecza/Library/CloudStorage/OneDrive-RMI/Documents/OCI Phase 2/Midstream/PRELIM_v1.6.xlsm'"
   ]
  },
  {
   "cell_type": "code",
   "execution_count": 3,
   "id": "c28a927a",
   "metadata": {},
   "outputs": [],
   "source": [
    "sp_dir = '/Users/atecza/Library/CloudStorage/OneDrive-RMI/Documents/OCI Phase 2'"
   ]
  },
  {
   "cell_type": "code",
   "execution_count": 4,
   "id": "642e69cb",
   "metadata": {},
   "outputs": [],
   "source": [
    "\n",
    "field_names_path = '/Users/atecza/Library/CloudStorage/OneDrive-RMI/Documents/ClimateTRACE Phase 4/csv/db_uploads/field_name_df.csv'\n",
    "\n",
    "field_names_df = pd.read_csv(field_names_path)\n"
   ]
  },
  {
   "cell_type": "markdown",
   "id": "3bd2a244",
   "metadata": {},
   "source": [
    "### Extract Assay Information"
   ]
  },
  {
   "cell_type": "code",
   "execution_count": 5,
   "id": "0ff60211",
   "metadata": {},
   "outputs": [],
   "source": [
    "def extract_assay_info(file):\n",
    "    \n",
    "    df = pd.read_excel(file,sheet_name='Assay Inventory', na_values=['NA'], usecols=\"B:E\",skiprows=7, names=['Country', 'Selected Assay', 'Units', 'Full Crude'])\n",
    "    \n",
    "    country_list = []\n",
    "    region_list = []\n",
    "    assay_names = []\n",
    "    assay_numbers = []\n",
    "    full_crude_vol_flows = []\n",
    "    full_crude_sulphurs = []\n",
    "    full_crude_apis = []\n",
    "\n",
    "    for i in df.index:\n",
    "        \n",
    "        country_region = df.at[i,'Country']\n",
    "        if pd.notnull(country_region):\n",
    "            \n",
    "            cr_list = country_region.split('-')\n",
    "            \n",
    "            if len(cr_list) > 1:\n",
    "                \n",
    "                country = cr_list[0]\n",
    "                region = cr_list[1]\n",
    "                \n",
    "                country_list.append(country)\n",
    "                region_list.append(region)\n",
    "            \n",
    "            else:\n",
    "                country_list.append(country_region)\n",
    "                region_list.append(np.nan)\n",
    "                \n",
    "            assay_names.append(df.at[i,'Selected Assay'])\n",
    "            assay_numbers.append(df.at[i+1,'Units'])\n",
    "\n",
    "            #get vol flow\n",
    "            full_crude_vol_flows.append(df.at[i+3,'Full Crude'])\n",
    "\n",
    "            #get sulpher\n",
    "            full_crude_sulphurs.append(df.at[i+6,'Full Crude'])\n",
    "\n",
    "            #get api\n",
    "            full_crude_apis.append(df.at[i+8,'Full Crude'])\n",
    "\n",
    "\n",
    "\n",
    "    #df_assay = pd.DataFrame(list(zip(country_list, region_list, assay_names, assay_numbers, units_flow, full_crude_vol_flows, units_sulphur, full_crude_sulphurs,units_api,full_crude_apis)), columns=['Country','Region','Assay Name','Assay Number','Throughput Unit','Throughput','Sulphur Unit','Sulphur','API Unit','API'])\n",
    "    df_assay = pd.DataFrame(list(zip(country_list, region_list, assay_names, assay_numbers, full_crude_vol_flows, full_crude_sulphurs,full_crude_apis)), columns=['Country','Region','Assay Name','Assay Number','Throughput','Sulphur','API'])\n",
    "    \n",
    "    return df_assay\n",
    "        "
   ]
  },
  {
   "cell_type": "code",
   "execution_count": 6,
   "id": "28999c96",
   "metadata": {},
   "outputs": [],
   "source": [
    "assay_df = extract_assay_info(prelim_dir)"
   ]
  },
  {
   "cell_type": "markdown",
   "id": "c5caa1e3",
   "metadata": {},
   "source": [
    "#### Separate Assay Name from Year"
   ]
  },
  {
   "cell_type": "code",
   "execution_count": 7,
   "id": "5b9c8e49",
   "metadata": {},
   "outputs": [],
   "source": [
    "import re\n",
    "split_assay_year = [int(re.findall(r'\\b\\d+\\b',x)[0]) if len(re.findall(r'\\b\\d+\\b',x))>0 else np.nan for x in assay_df['Assay Name']]\n",
    "assay_df['Year'] = [int(x) if x > 1000 else np.nan for x in split_assay_year]\n",
    "assay_df['Year'] = assay_df['Year'].astype('Int64')\n",
    "assay_df['Assay Name NN'] = [\" \".join(x.split()[:-1]) if x.split()[-1].isnumeric() else x for x in assay_df['Assay Name']]"
   ]
  },
  {
   "cell_type": "code",
   "execution_count": 67,
   "id": "40849ca7",
   "metadata": {},
   "outputs": [
    {
     "data": {
      "text/html": [
       "<div>\n",
       "<style scoped>\n",
       "    .dataframe tbody tr th:only-of-type {\n",
       "        vertical-align: middle;\n",
       "    }\n",
       "\n",
       "    .dataframe tbody tr th {\n",
       "        vertical-align: top;\n",
       "    }\n",
       "\n",
       "    .dataframe thead th {\n",
       "        text-align: right;\n",
       "    }\n",
       "</style>\n",
       "<table border=\"1\" class=\"dataframe\">\n",
       "  <thead>\n",
       "    <tr style=\"text-align: right;\">\n",
       "      <th></th>\n",
       "      <th>Country</th>\n",
       "      <th>Region</th>\n",
       "      <th>Assay Name</th>\n",
       "      <th>Assay Number</th>\n",
       "      <th>Throughput</th>\n",
       "      <th>Sulphur</th>\n",
       "      <th>API</th>\n",
       "      <th>Year</th>\n",
       "      <th>Assay Name NN</th>\n",
       "    </tr>\n",
       "  </thead>\n",
       "  <tbody>\n",
       "    <tr>\n",
       "      <th>0</th>\n",
       "      <td>Nigeria</td>\n",
       "      <td>NaN</td>\n",
       "      <td>Abo_Solomon 2010</td>\n",
       "      <td>11</td>\n",
       "      <td>100032.667139</td>\n",
       "      <td>0.147911</td>\n",
       "      <td>36.396513</td>\n",
       "      <td>2010</td>\n",
       "      <td>Abo_Solomon</td>\n",
       "    </tr>\n",
       "    <tr>\n",
       "      <th>1</th>\n",
       "      <td>Canada</td>\n",
       "      <td>Alberta</td>\n",
       "      <td>Access Western Blend_Crude Monitor</td>\n",
       "      <td>NaN</td>\n",
       "      <td>99851.088615</td>\n",
       "      <td>4.196450</td>\n",
       "      <td>22.640000</td>\n",
       "      <td>&lt;NA&gt;</td>\n",
       "      <td>Access Western Blend_Crude Monitor</td>\n",
       "    </tr>\n",
       "  </tbody>\n",
       "</table>\n",
       "</div>"
      ],
      "text/plain": [
       "   Country   Region                          Assay Name Assay Number  \\\n",
       "0  Nigeria      NaN                    Abo_Solomon 2010           11   \n",
       "1   Canada  Alberta  Access Western Blend_Crude Monitor          NaN   \n",
       "\n",
       "      Throughput   Sulphur        API  Year  \\\n",
       "0  100032.667139  0.147911  36.396513  2010   \n",
       "1   99851.088615  4.196450  22.640000  <NA>   \n",
       "\n",
       "                        Assay Name NN  \n",
       "0                         Abo_Solomon  \n",
       "1  Access Western Blend_Crude Monitor  "
      ]
     },
     "execution_count": 67,
     "metadata": {},
     "output_type": "execute_result"
    }
   ],
   "source": [
    "assay_df.head(2)"
   ]
  },
  {
   "cell_type": "markdown",
   "id": "4dc63397",
   "metadata": {},
   "source": [
    "### Match Assay to Field Name"
   ]
  },
  {
   "cell_type": "markdown",
   "id": "766495c2",
   "metadata": {},
   "source": [
    "Will capture when multiple assays match a single field, will also capture when multiple fields match the same assay"
   ]
  },
  {
   "cell_type": "code",
   "execution_count": 13,
   "id": "717f7b8d",
   "metadata": {},
   "outputs": [],
   "source": [
    "rmi_name_list = []\n",
    "assay_matches = []\n",
    "\n",
    "for i in field_names_df.index:\n",
    "    FN = field_names_df.at[i,'Field_name']\n",
    "    assay_names = assay_df['Assay Name NN']\n",
    "    match_list = [x for x in assay_names if FN in x]\n",
    "    \n",
    "    #If more than one assay matches\n",
    "    if len(match_list) > 0:\n",
    "        \n",
    "        rmi_name_list.append(FN)\n",
    "        assay_matches.append(match_list)\n",
    "        \n",
    "    else:\n",
    "        \n",
    "        \n",
    "        \n",
    "    df_match = pd.DataFrame(list(zip(rmi_name_list, assay_matches)), columns=['RMI Name','Assay Match'])\n"
   ]
  },
  {
   "cell_type": "markdown",
   "id": "76e26826",
   "metadata": {},
   "source": [
    "### Unpack the list of assay names"
   ]
  },
  {
   "cell_type": "code",
   "execution_count": 14,
   "id": "5f4a8869",
   "metadata": {},
   "outputs": [],
   "source": [
    "rmi_name = []\n",
    "assay_match_name =[]\n",
    "for i in df_match.index:\n",
    "    for match in df_match.at[i,'Assay Match']:\n",
    "        rmi_name.append(df_match.at[i,'RMI Name'])\n",
    "        assay_match_name.append(match)\n",
    "\n",
    "\n",
    "df_match_unpack = pd.DataFrame(list(zip(rmi_name, assay_match_name)), columns = ['RMI Name', 'Assay Name NN']) "
   ]
  },
  {
   "cell_type": "markdown",
   "id": "74b6f642",
   "metadata": {},
   "source": [
    "#### Merge the Assay information into the RMI Name"
   ]
  },
  {
   "cell_type": "code",
   "execution_count": 16,
   "id": "1b947344",
   "metadata": {},
   "outputs": [],
   "source": [
    "df_full_match = df_match_unpack.merge(assay_df, how='left', on='Assay Name NN')"
   ]
  },
  {
   "cell_type": "markdown",
   "id": "443e2918",
   "metadata": {},
   "source": [
    "### Merge with Field Info From Runs"
   ]
  },
  {
   "cell_type": "code",
   "execution_count": 55,
   "id": "64a5eaea",
   "metadata": {},
   "outputs": [
    {
     "name": "stderr",
     "output_type": "stream",
     "text": [
      "/Users/atecza/opt/anaconda3/lib/python3.9/site-packages/IPython/core/interactiveshell.py:3444: DtypeWarning: Columns (225) have mixed types.Specify dtype option on import or set low_memory=False.\n",
      "  exec(code_obj, self.user_global_ns, self.user_ns)\n"
     ]
    }
   ],
   "source": [
    "opgee_output_path = '/Users/atecza/Library/CloudStorage/OneDrive-RMI/Documents/ClimateTRACE Phase 4/csv/db_exports/trace_main_outputs.csv'\n",
    "opgee_outpus = pd.read_csv(opgee_output_path)\n",
    "opgee_outputs_2 = opgee_outpus.loc[:,['Field_name','Region','API_gravity']] #'Gas_composition_H2S'\n"
   ]
  },
  {
   "cell_type": "markdown",
   "id": "88187198",
   "metadata": {},
   "source": [
    "### How do we want to merge? Do we want to bring in API for just one year? "
   ]
  },
  {
   "cell_type": "code",
   "execution_count": 56,
   "id": "652f88c6",
   "metadata": {},
   "outputs": [],
   "source": [
    "opgee_outputs_2.rename(columns={'Year':'RMI Year','Region':'RMI Region','API_gravity':'RMI API'}, inplace=True)"
   ]
  },
  {
   "cell_type": "code",
   "execution_count": 57,
   "id": "ab4d96ea",
   "metadata": {},
   "outputs": [],
   "source": [
    "opgee_outputs_group = opgee_outputs_2.groupby('Field_name').first().reset_index()"
   ]
  },
  {
   "cell_type": "code",
   "execution_count": 58,
   "id": "e7d9c0d8",
   "metadata": {},
   "outputs": [],
   "source": [
    "opgee_assay_full = df_full_match.merge(opgee_outputs_group, how = 'left', left_on ='RMI Name', right_on='Field_name')"
   ]
  },
  {
   "cell_type": "code",
   "execution_count": 66,
   "id": "75e885fe",
   "metadata": {},
   "outputs": [
    {
     "data": {
      "text/html": [
       "<div>\n",
       "<style scoped>\n",
       "    .dataframe tbody tr th:only-of-type {\n",
       "        vertical-align: middle;\n",
       "    }\n",
       "\n",
       "    .dataframe tbody tr th {\n",
       "        vertical-align: top;\n",
       "    }\n",
       "\n",
       "    .dataframe thead th {\n",
       "        text-align: right;\n",
       "    }\n",
       "</style>\n",
       "<table border=\"1\" class=\"dataframe\">\n",
       "  <thead>\n",
       "    <tr style=\"text-align: right;\">\n",
       "      <th></th>\n",
       "      <th>RMI Name</th>\n",
       "      <th>Assay Name NN</th>\n",
       "      <th>Country</th>\n",
       "      <th>Region</th>\n",
       "      <th>Assay Name</th>\n",
       "      <th>Assay Number</th>\n",
       "      <th>Throughput</th>\n",
       "      <th>Sulphur</th>\n",
       "      <th>API</th>\n",
       "      <th>Year</th>\n",
       "      <th>Field_name</th>\n",
       "      <th>RMI Region</th>\n",
       "      <th>RMI API</th>\n",
       "      <th>API Difference</th>\n",
       "    </tr>\n",
       "  </thead>\n",
       "  <tbody>\n",
       "    <tr>\n",
       "      <th>0</th>\n",
       "      <td>Agbami</td>\n",
       "      <td>Nigeria Agbami_Chevron</td>\n",
       "      <td>Nigeria</td>\n",
       "      <td>NaN</td>\n",
       "      <td>Nigeria Agbami_Chevron</td>\n",
       "      <td>32</td>\n",
       "      <td>95429.629390</td>\n",
       "      <td>0.081672</td>\n",
       "      <td>47.876196</td>\n",
       "      <td>&lt;NA&gt;</td>\n",
       "      <td>Agbami</td>\n",
       "      <td>NaN</td>\n",
       "      <td>47.0</td>\n",
       "      <td>0.876196</td>\n",
       "    </tr>\n",
       "    <tr>\n",
       "      <th>1</th>\n",
       "      <td>Agbami</td>\n",
       "      <td>Nigeria Agbami_Statoil</td>\n",
       "      <td>Nigeria</td>\n",
       "      <td>NaN</td>\n",
       "      <td>Nigeria Agbami_Statoil</td>\n",
       "      <td>55</td>\n",
       "      <td>95915.130925</td>\n",
       "      <td>0.072768</td>\n",
       "      <td>48.032857</td>\n",
       "      <td>&lt;NA&gt;</td>\n",
       "      <td>Agbami</td>\n",
       "      <td>NaN</td>\n",
       "      <td>47.0</td>\n",
       "      <td>1.032857</td>\n",
       "    </tr>\n",
       "  </tbody>\n",
       "</table>\n",
       "</div>"
      ],
      "text/plain": [
       "  RMI Name           Assay Name NN  Country Region              Assay Name  \\\n",
       "0   Agbami  Nigeria Agbami_Chevron  Nigeria    NaN  Nigeria Agbami_Chevron   \n",
       "1   Agbami  Nigeria Agbami_Statoil  Nigeria    NaN  Nigeria Agbami_Statoil   \n",
       "\n",
       "  Assay Number    Throughput   Sulphur        API  Year Field_name  \\\n",
       "0           32  95429.629390  0.081672  47.876196  <NA>     Agbami   \n",
       "1           55  95915.130925  0.072768  48.032857  <NA>     Agbami   \n",
       "\n",
       "   RMI Region  RMI API  API Difference  \n",
       "0         NaN     47.0        0.876196  \n",
       "1         NaN     47.0        1.032857  "
      ]
     },
     "execution_count": 66,
     "metadata": {},
     "output_type": "execute_result"
    }
   ],
   "source": [
    "#[x for x in list(opgee_assay_full.columns) if 'Year' in x]\n",
    "opgee_assay_full.head(2)"
   ]
  },
  {
   "cell_type": "code",
   "execution_count": 60,
   "id": "b4321f19",
   "metadata": {},
   "outputs": [],
   "source": [
    "opgee_assay_full['API Difference'] = abs(opgee_assay_full['API'] - opgee_assay_full['RMI API'])"
   ]
  },
  {
   "cell_type": "code",
   "execution_count": 61,
   "id": "8706e4c2",
   "metadata": {},
   "outputs": [],
   "source": [
    "series_list = []\n",
    "df_group = opgee_assay_full.groupby('RMI Name')\n",
    "for name_of_group, contents_of_group in df_group:\n",
    "    df1 = df_group.get_group(name_of_group)\n",
    "    if df1['Year'].isnull().any():\n",
    "        series_list.append(df1.loc[df1['API Difference'].idxmin()])\n",
    "    \n",
    "    else:\n",
    "        series_list.append(df1.loc[df1['Year'].idxmax()])\n",
    "\n",
    "df_g = pd.concat(series_list, axis=1).T"
   ]
  },
  {
   "cell_type": "code",
   "execution_count": 65,
   "id": "f6b7828e",
   "metadata": {},
   "outputs": [
    {
     "name": "stdout",
     "output_type": "stream",
     "text": [
      "83\n",
      "83\n"
     ]
    }
   ],
   "source": [
    "print(opgee_assay_full.groupby('RMI Name').ngroups)\n",
    "print(len(df_g))"
   ]
  },
  {
   "cell_type": "markdown",
   "id": "e315430e",
   "metadata": {},
   "source": [
    "### Old Code/Sandbox"
   ]
  },
  {
   "cell_type": "code",
   "execution_count": 315,
   "id": "58e63c7d",
   "metadata": {},
   "outputs": [],
   "source": [
    "assay_df['API Diff Normalized'] = abs((assay_df['API'] - assay_df['API'].mean())/(assay_df['API'].std()))\n",
    "#assay_df['API Normalized'] = abs((assay_df['API'] - assay_df['API'].mean())/(assay_df['API'].std()))"
   ]
  },
  {
   "cell_type": "code",
   "execution_count": 109,
   "id": "1face4db",
   "metadata": {},
   "outputs": [],
   "source": [
    "def closest_val(lst, K):\n",
    "    closest_val_list = []\n",
    "    dif_list = [abs(x-K) for x in lst]\n",
    "    s = min(dif_list)\n",
    "\n",
    "    i_list = [i for i, x in enumerate(dif_list) if x == s]\n",
    "\n",
    "    for index in i_list:\n",
    "        closest_val_list.append(lst[index])\n",
    "    \n",
    "    return closest_val_list"
   ]
  },
  {
   "cell_type": "code",
   "execution_count": null,
   "id": "7ce2a53d",
   "metadata": {},
   "outputs": [],
   "source": []
  }
 ],
 "metadata": {
  "kernelspec": {
   "display_name": "Python 3 (ipykernel)",
   "language": "python",
   "name": "python3"
  },
  "language_info": {
   "codemirror_mode": {
    "name": "ipython",
    "version": 3
   },
   "file_extension": ".py",
   "mimetype": "text/x-python",
   "name": "python",
   "nbconvert_exporter": "python",
   "pygments_lexer": "ipython3",
   "version": "3.9.7"
  }
 },
 "nbformat": 4,
 "nbformat_minor": 5
}

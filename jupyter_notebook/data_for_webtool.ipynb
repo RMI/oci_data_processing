{
 "cells": [
  {
   "cell_type": "markdown",
   "source": [
    "# Import Packages"
   ],
   "metadata": {}
  },
  {
   "cell_type": "code",
   "execution_count": 1,
   "source": [
    "import pandas as pd\n",
    "import numpy as np\n",
    "from datetime import date"
   ],
   "outputs": [],
   "metadata": {}
  },
  {
   "cell_type": "markdown",
   "source": [
    "# Import Data"
   ],
   "metadata": {}
  },
  {
   "cell_type": "code",
   "execution_count": 2,
   "source": [
    "sp_dir = '/Users/rwang/RMI/Climate Action Engine - OCI Phase 2'\n",
    "up_mid_down = pd.read_csv(sp_dir + '/Upstream/upstream_data_pipeline_sp/Postprocessed_outputs_2/downstream_postprocessed_fix_opem.csv')\n",
    "#up_mid_down = df #df[df['gwp']==20]"
   ],
   "outputs": [],
   "metadata": {}
  },
  {
   "cell_type": "code",
   "execution_count": 3,
   "source": [
    "OCI_info = pd.DataFrame()"
   ],
   "outputs": [],
   "metadata": {}
  },
  {
   "cell_type": "markdown",
   "source": [
    "# Fill in OCI_info with up_mid_down"
   ],
   "metadata": {}
  },
  {
   "cell_type": "code",
   "execution_count": 4,
   "source": [
    "# select relevant columns from up_mid_down to OCI_info\n",
    "OCI_info['Field Name']=up_mid_down['Field_name']\n",
    "OCI_info['Country']=up_mid_down['Field location (Country)']\n",
    "OCI_info['Assay Name']=up_mid_down['Assay Name']\n",
    "OCI_info['API Gravity']=up_mid_down['API gravity']\n",
    "OCI_info['Sulfur Content (wt%)']=up_mid_down['sulfur']\n",
    "OCI_info['Gas composition H2S']=up_mid_down['Gas composition H2S']\n",
    "OCI_info['Gas composition CO2'] = up_mid_down['Gas composition CO2']\n",
    "OCI_info['Gas composition C1']=up_mid_down['Gas composition C1']\n",
    "OCI_info['2020 Total Oil and Gas Production Volume (boe)'] = up_mid_down['Total_BOE_Produced']*365\n",
    "OCI_info['Location']=np.where(up_mid_down['Offshore?']==0,'Onshore', 'Offshore')\n",
    "OCI_info['Max Depth (ft)']=up_mid_down['Field depth']\n",
    "OCI_info['Water-to-oil Ratio (bbl water/bbl oil)']=up_mid_down['Water-to-oil ratio (WOR)']\n",
    "OCI_info['Gas shipped as LNG']=np.where(up_mid_down['lng?']==True,1,0)\n",
    "\n",
    "# If any of the following operation is 1 in OPGEE input, it's considered as Enhanced Oil Recovery\n",
    "OCI_info['Enhanced recovery']=up_mid_down[['Natural gas reinjection','Water flooding','Gas lifting',\n",
    "                                            'Gas flooding','Steam flooding']].any(axis='columns')\n",
    "OCI_info['Fracked'] = up_mid_down['frack?']\n",
    "OCI_info['gwp']=up_mid_down['gwp']\n",
    "OCI_info['Default Refinery Configuration']=up_mid_down['Default Refinery']\n",
    "OCI_info['Heating Value Processed Oil and Gas (MJ/d)']=up_mid_down['ES_MJperd']\n",
    "OCI_info['Years in Production']=up_mid_down['Field age']\n",
    "OCI_info['Number of Producing Wells']=up_mid_down['Number of producing wells']\n",
    "OCI_info['Gas-to-Oil Ratio (scf/bbl)']=up_mid_down['Gas-to-oil ratio (GOR)']\n",
    "OCI_info['Flaring-to-Oil Ratio (scf flared/bbl)'] = up_mid_down['Flaring-to-oil ratio']\n",
    "OCI_info['Steam-to-Oil Ratio (bbl steam/bbl oil)'] = up_mid_down['Steam-to-oil ratio (SOR)']\n",
    "OCI_info['2020 Crude Production Volume (bbl)']= up_mid_down['Oil production volume']*365\n",
    "OCI_info['2020 Total Oil and Gas Production Volume (boe)']= up_mid_down['Total_BOE_Produced']*365\n",
    "\n",
    "# Upstream methane accounts for all of flaring, part of fugitives/venting (Production, Gathering and Boosting, Secondary production)\n",
    "OCI_info['Upstream Methane Intensity (kgCH4/boe)']=(up_mid_down['venting_ch4_uponly(t/d)']+up_mid_down['fugitive_ch4_uponly(t/d)']+up_mid_down['flaring_ch4(t/d)'])*365\\\n",
    "/(OCI_info['2020 Total Oil and Gas Production Volume (boe)'])*1000\n",
    "\n",
    "# Midstream Methane Intensity calculation, use 100yr total emission from midstream runs and get fraction of CO2eq and convert back to methane \n",
    "OCI_info['Midstream Methane Intensity (kgCH4/boe)']=up_mid_down['Total refinery processes']\\\n",
    "    *OCI_info['2020 Crude Production Volume (bbl)']/OCI_info['2020 Crude Production Volume (bbl)']\\\n",
    "    *up_mid_down['emission_frac_CH4']/30\n",
    "\n",
    "# Downstream methane accounts for all OPEM methane output + upstream natural gas distribution /LNG\n",
    "OCI_info['Downstream Methane Intensity (kgCH4/boe)']=up_mid_down['Total_CH4_Emissions_kgCH4/BOE']+\\\n",
    "    up_mid_down['tCH4/year']/OCI_info['2020 Total Oil and Gas Production Volume (boe)']*1000-OCI_info['Upstream Methane Intensity (kgCH4/boe)']\n",
    "OCI_info['Total Methane Intensity (kgCH4/boe)'] = OCI_info['Upstream Methane Intensity (kgCH4/boe)']+\\\n",
    "OCI_info['Midstream Methane Intensity (kgCH4/boe)'] +OCI_info['Downstream Methane Intensity (kgCH4/boe)']\n",
    "OCI_info['Upstream Methane Emission Rate (NGSI Standard %)'] = up_mid_down['tCH4/year-miQ']*up_mid_down['ES_Gas_output(MJ/d)']/up_mid_down['ES_MJperd']\\\n",
    "        /(up_mid_down['FS_Gas_at_Wellhead(t/d)']*365*up_mid_down['Gas composition C1']/100)\n",
    "\n",
    "#If gas output is negative in OPGEE, zero it out to avoid a negative methane emission rate\n",
    "OCI_info['Upstream Methane Emission Rate (NGSI Standard %)'] = np.where(OCI_info['Upstream Methane Emission Rate (NGSI Standard %)']<0,0,OCI_info['Upstream Methane Emission Rate (NGSI Standard %)']*100)\n",
    "OCI_info['Upstream Methane Emission Rate (gCH4/Total MJ Produced)'] = up_mid_down['tCH4/year']*1e6/(up_mid_down['ES_MJperd']*365)"
   ],
   "outputs": [],
   "metadata": {}
  },
  {
   "cell_type": "code",
   "execution_count": 5,
   "source": [
    "def refinery_config(x):\n",
    "    try:\n",
    "        '''Simplying Refinery Configuration'''\n",
    "        if x.startswith('Deep'):\n",
    "            return 'Deep Conversion'\n",
    "        elif x.startswith('Medium'):\n",
    "            return 'Medium Conversion'\n",
    "        elif x.startswith('Hydro'):\n",
    "            return 'Hydroskimming'\n",
    "    except:\n",
    "        return None\n",
    "OCI_info['Default Refinery Configuration']=OCI_info['Default Refinery Configuration'].apply(lambda x: refinery_config(x))\n",
    "OCI_info['Gas_at_Wellhead(t/d)']=up_mid_down['FS_Gas_at_Wellhead(t/d)']\n",
    "OCI_info['Total Energy Produced (MJ/d)']=up_mid_down['ES_MJperd']\n",
    "\n",
    "\n",
    "def upstream_gmj_kgboe_convert(x):\n",
    "    return(up_mid_down[x]*up_mid_down['ES_MJperd']/up_mid_down['Total_BOE_Produced']/1000)\n",
    "\n",
    "upstream_emission_category = {\n",
    "    'Upstream: Exploration (kgCO2eq/boe)':'e-Total GHG emissions',\n",
    "    'Upstream: Drilling & Development (kgCO2eq/boe)':'d-Total GHG emissions',\n",
    "    'Upstream: Crude Production & Extraction (kgCO2eq/boe)':'p-Total GHG emissions',\n",
    "    'Upstream: Surface Processing (kgCO2eq/boe)':'s-Total GHG emissions',\n",
    "    'Upstream: Maintenance (kgCO2eq/boe)':'m-Total GHG emissions',\n",
    "    'Upstream: Waste Disposal (kgCO2eq/boe)':'w-Total GHG emissions',\n",
    "    'Upstream: Crude Transport (kgCO2eq/boe)':'t-Total GHG emissions',\n",
    "    'Upstream: Other Small Sources (kgCO2eq/boe)':'Other small sources',\n",
    "    'Upstream: Offsite emissions credit/debit (kgCO2eq/boe)':'Offsite emissions credit/debit',\n",
    "    'Upstream: Carbon Dioxide Sequestration (kgCO2eq/boe)':'CSS-Total CO2 sequestered'\n",
    "}\n",
    "\n",
    "for i in upstream_emission_category:\n",
    "    OCI_info[i] = upstream_gmj_kgboe_convert(upstream_emission_category[i])\n",
    "\n",
    "OCI_info['Upstream Carbon Intensity (kgCO2eq/boe)']=sum([OCI_info[i] for i in upstream_emission_category])\n",
    "\n",
    "def midstream_scaler(x):\n",
    "    '''scale midstream emission from kgCO2eq/bbl to kgCO2eq/boe'''\n",
    "    return(up_mid_down[x]*up_mid_down['Oil production volume']/up_mid_down['Total_BOE_Produced'])\n",
    "\n",
    "midstream_emission_category_CO2 ={\n",
    "    'Midstream: Electricity (kgCO2eq/boe)':'Electricity',\n",
    "    'Midstream: Heat (kgCO2eq/boe)':'Heat',\n",
    "    'Midstream: Steam (kgCO2eq/boe)':'Steam',\n",
    "    'Midstream: Hydrogen via SMR (kgCO2eq/boe)':'Hydrogen via SMR',\n",
    "    'Midstream: Hydrogen via CNR (kgCO2eq/boe)':'Hydrogen via CNR',\n",
    "    'Midstream: Other Emissions (kgCO2eq/boe)':'Other Emissions'\n",
    "}\n",
    "\n",
    "for i in midstream_emission_category_CO2:\n",
    "    OCI_info[i] = midstream_scaler(midstream_emission_category_CO2[i])\n"
   ],
   "outputs": [],
   "metadata": {}
  },
  {
   "cell_type": "code",
   "execution_count": 6,
   "source": [
    "OCI_info['Midstream Carbon Intensity (kgCO2eq/boe)']=sum([OCI_info[i] for i in midstream_emission_category_CO2])\n",
    "\n",
    "# Downstream Transport to Consumer include refinery product transport and NGL transport\n",
    "OCI_info['Downstream: Transport of Petroleum Products to Consumers (kgCO2eq/boe)'] =up_mid_down['Total_TransportEmissions_kgCO2e/BOE'] \n",
    "\n",
    "OCI_info['Downstream: Transport of LNG to Consumers (kgCO2eq/boe)'] = upstream_gmj_kgboe_convert('l-Total GHG emissions')\n",
    "OCI_info['Downstream: Transport of Pipeline Gas to Consumers (kgCO2eq/boe)'] = upstream_gmj_kgboe_convert('g-Total GHG emissions')\n",
    "#OCI_info['Downstream: Transport to Consumers (kgCO2eq/boe)'] = OCI_info['Downstream: Transport of Petroleum Products to Consumers (kgCO2eq/boe)'] +\\\n",
    "#    OCI_info['Downstream: Transport of LNG to Consumers (kgCO2eq/boe)'] + OCI_info['Downstream: Transport of Pipeline Gas to Consumers (kgCO2eq/boe)']\n",
    "\n",
    "OCI_info['Downstream: Gasoline for Cars (kgCO2eq/boe)']=\\\n",
    "    up_mid_down['Gasoline_CombustionEmissions_kgCO2e/BOE']\n",
    "OCI_info['Downstream: Jet Fuel for Planes (kgCO2eq/boe)']=\\\n",
    "    up_mid_down['Jet_CombustionEmissions_kgCO2e/BOE']\n",
    "OCI_info['Downstream: Diesel for Trucks and Engines (kgCO2eq/boe)'] = \\\n",
    "    up_mid_down['Diesel_CombustionEmissions_kgCO2e/BOE']\n",
    "OCI_info['Downstream: Fuel Oil for Boilers (kgCO2eq/boe)'] = \\\n",
    "    up_mid_down['FuelOil_CombustionEmissions_kgCO2e/BOE']\n",
    "OCI_info['Downstream: Petroleum Coke for Power (kgCO2eq/boe)'] = \\\n",
    "    up_mid_down['RefineryCoke_CombustionEmissions_kgCO2e/BOE'] + up_mid_down['UpgraderCoke_CombustionEmissions_kgCO2e/BOE']\n",
    "OCI_info['Downstream: Liquid Heavy Ends for Ships (kgCO2eq/boe)'] = \\\n",
    "    up_mid_down['ResidFuel_CombustionEmissions_kgCO2e/BOE']\n",
    "OCI_info['Downstream: Natural Gas Liquids (kgCO2eq/boe)'] =\\\n",
    "    up_mid_down['UpstreamNGLProd_CombustionEmissions_kgCO2e/BOE'] \n",
    "OCI_info['Downstream: Liquefied Petroleum Gases (kgCO2eq/boe)'] = \\\n",
    "    up_mid_down['RefineryLPG_CombustionEmissions_kgCO2e/BOE']\n",
    "OCI_info['Downstream: Petrochemical Feedstocks (kgCO2eq/boe)']=\\\n",
    "    up_mid_down['Ethane_ConversionEmissions_kgCO2e/BOE']\n",
    "\n",
    "OCI_info['Downstream: Natural Gas (kgCO2eq/boe)'] = \\\n",
    "   up_mid_down['NatGas_CombustionEmissions_kgCO2e/BOE'].clip(0,None)\n",
    "    \n",
    "OCI_info['Downstream Carbon Intensity (kgCO2eq/boe)'] = (OCI_info['Downstream: Transport of Petroleum Products to Consumers (kgCO2eq/boe)']\n",
    "    + OCI_info['Downstream: Transport of LNG to Consumers (kgCO2eq/boe)']\n",
    "    + OCI_info['Downstream: Transport of Pipeline Gas to Consumers (kgCO2eq/boe)']\n",
    "    + OCI_info['Downstream: Gasoline for Cars (kgCO2eq/boe)'] \n",
    "    + OCI_info['Downstream: Jet Fuel for Planes (kgCO2eq/boe)']\n",
    "    + OCI_info['Downstream: Diesel for Trucks and Engines (kgCO2eq/boe)']\n",
    "    + OCI_info['Downstream: Fuel Oil for Boilers (kgCO2eq/boe)'] \n",
    "    + OCI_info['Downstream: Petroleum Coke for Power (kgCO2eq/boe)']\n",
    "    + OCI_info['Downstream: Liquid Heavy Ends for Ships (kgCO2eq/boe)']\n",
    "    + OCI_info['Downstream: Natural Gas Liquids (kgCO2eq/boe)']\n",
    "    + OCI_info['Downstream: Liquefied Petroleum Gases (kgCO2eq/boe)'] \n",
    "    + OCI_info['Downstream: Petrochemical Feedstocks (kgCO2eq/boe)']\n",
    "    + OCI_info['Downstream: Natural Gas (kgCO2eq/boe)']) \n",
    "\n",
    "OCI_info['Total Emission Carbon Intensity (kgCO2eq/boe)']=OCI_info['Upstream Carbon Intensity (kgCO2eq/boe)']+\\\n",
    "OCI_info['Midstream Carbon Intensity (kgCO2eq/boe)']+OCI_info['Downstream Carbon Intensity (kgCO2eq/boe)']\n",
    "\n",
    "OCI_info['Industry GHG Responsibility (kgCO2eq/boe)']=(OCI_info['Upstream Carbon Intensity (kgCO2eq/boe)']\n",
    "    + OCI_info['Midstream Carbon Intensity (kgCO2eq/boe)']\n",
    "    + OCI_info['Downstream: Transport of Petroleum Products to Consumers (kgCO2eq/boe)']\n",
    "    + OCI_info['Downstream: Transport of LNG to Consumers (kgCO2eq/boe)']\n",
    "    + OCI_info['Downstream: Transport of Pipeline Gas to Consumers (kgCO2eq/boe)']) \n",
    "\n",
    "OCI_info['Consumer GHG Responsibility (kgCO2eq/boe)'] = OCI_info['Total Emission Carbon Intensity (kgCO2eq/boe)'] \\\n",
    "    - OCI_info['Industry GHG Responsibility (kgCO2eq/boe)']\n"
   ],
   "outputs": [],
   "metadata": {}
  },
  {
   "cell_type": "code",
   "execution_count": 7,
   "source": [
    "# Post-aggregation field property value assignment\n",
    "## Flare rate is defined in the following categorical way\n",
    "def flare_rate_category(x):\n",
    "    flare_rate= x['Flaring-to-Oil Ratio (scf flared/bbl)']/(1+x['Gas-to-Oil Ratio (scf/bbl)']/5800)\n",
    "    if flare_rate<=1:\n",
    "        return 'Very Low Flare'\n",
    "    elif flare_rate>1 and flare_rate<=5:\n",
    "        return 'Low Flare'\n",
    "    elif flare_rate>5 and flare_rate<=50:\n",
    "        return 'Medium Flare'\n",
    "    elif flare_rate>50 and flare_rate<=500:\n",
    "        return 'High Flare'\n",
    "    elif flare_rate>500 and flare_rate<=1000:\n",
    "        return 'Very High Flare'\n",
    "    elif flare_rate>1000:\n",
    "        return 'Ultra High Flare'\n",
    "    else:\n",
    "        return 'No Flare Info'"
   ],
   "outputs": [],
   "metadata": {}
  },
  {
   "cell_type": "code",
   "execution_count": 8,
   "source": [
    "OCI_info['Flare Rate']=OCI_info.apply(lambda x: flare_rate_category(x),axis =1)\n",
    "\n",
    "OPEC_list = ['Equatorial Guinea','Gabon','Republic of the Congo','Iran','Iraq','Kuwait','Saudi Arabia',\n",
    "            'United Arab Emirates','Algeria','Libya','Venezuela','Angola','Nigeria','Russian Federation',\n",
    "            'Azerbaijan','Bahrain','Kazakhstan','Malaysia','Mexico','Oman']\n",
    "\n",
    "OCI_info['OPEC'] = OCI_info['Country'].apply(lambda x:'Y' if x in OPEC_list else 'N')\n",
    "\n",
    "#OCI_info['Oil or Gas']=OCI_info['Gas-to-Oil Ratio (scf/bbl)'].apply(lambda x: 'Gas' if x>1000 else 'Oil')\n",
    "\n",
    "# def resource_type(x):\n",
    "#     if x['API Gravity']<15:\n",
    "#         return 'Extra-Heavy Oil'\n",
    "#     elif x['API Gravity']>=15 and x['API Gravity']<=24:\n",
    "#         return 'Heavy Oil' \n",
    "#     elif x['API Gravity']>24 and x['API Gravity']<=34:\n",
    "#         return 'Medium Oil'\n",
    "#     elif x['API Gravity']>34 and x['API Gravity']<=45:\n",
    "#         return 'Light Oil'\n",
    "#     elif x['API Gravity']>45 and x['API Gravity']<50:\n",
    "#         return 'Ultra-Light Oil'\n",
    "#     elif x['API Gravity']>=50 and x['Gas-to-Oil Ratio (scf/bbl)']>=1000 and x['Gas-to-Oil Ratio (scf/bbl)']<5000:\n",
    "#         return 'Condensate'\n",
    "#     elif x['API Gravity']>=60 or (x['Gas-to-Oil Ratio (scf/bbl)']>=5000 and x['Gas-to-Oil Ratio (scf/bbl)']<=25000):\n",
    "#         return 'Wet Gas'\n",
    "#     elif x['Gas-to-Oil Ratio (scf/bbl)']>25000:\n",
    "#         return 'Dry Gas'\n",
    "#     elif x['Filed Name'] in ['Sulige', 'Powder River', 'Fairview', 'Roma', 'Condabri', 'Talinga', 'Orana', 'Uinta']:\n",
    "#         return 'Coal-bed Gas'\n",
    "#     # elif x['API Gravity']>45 and x['Gas composition CO2']>=10:\n",
    "#     #     return 'Acid Gas' \n",
    "#     else: \n",
    "#         return 'Uncategorized'\n",
    "#OCI_info['Resource Type']=OCI_info.apply(lambda x: resource_type(x),axis =1)\n",
    "opgee_inputs =pd.read_csv(sp_dir + '/Upstream/upstream_data_pipeline_sp/Inputs/public_run.csv')\n",
    "OCI_info.drop(columns = ['API Gravity', 'Sulfur Content (wt%)', 'Gas composition H2S', 'Gas composition CO2'],inplace = True)\n",
    "opgee_inputs = opgee_inputs[['Field location (Country)', 'Field name','API gravity', 'Sulfur wt percent', 'Gas composition H2S', 'Gas composition CO2','Resource type']]\n",
    "opgee_inputs['Field name'] = opgee_inputs['Field name'].apply(lambda x: x.strip())\n",
    "OCI_info = OCI_info.merge(opgee_inputs, left_on = ['Country','Field Name'],right_on = ['Field location (Country)', 'Field name'],how = 'left',indicator = True)\n",
    "if OCI_info[OCI_info['_merge']!='both'].shape[0]==0:\n",
    "    OCI_info.drop(columns = '_merge',inplace = True)\n",
    "else:\n",
    "    print(OCI_info[OCI_info['_merge']!='both'])\n",
    "OCI_info['Oil or Gas'] = OCI_info['Resource type'].apply(lambda x: 'Oil' if x.lower() in ['Extra-Heavy Oil'.lower(),'Heavy Oil'.lower(),'Medium Oil'.lower(),'Light Oil'.lower(),'Ultra-Light Oil'.lower(), 'Condensate.lower()'] else 'Gas')\n",
    "OCI_info['Gas composition H2S'] = pd.to_numeric(OCI_info['Gas composition H2S'],errors = 'coerce')\n",
    "OCI_info['Gas composition CO2'] = pd.to_numeric(OCI_info['Gas composition CO2'],errors = 'coerce')\n",
    "def sweet_sour(x):\n",
    "    if x['Oil or Gas']=='Oil' and x['Sulfur wt percent']>=0.5:\n",
    "        return 'Sour Oil'\n",
    "    elif x['Oil or Gas']=='Oil' and x['Sulfur wt percent']<0.5:\n",
    "        return 'Sweet Oil'\n",
    "    elif x['Oil or Gas']=='Gas' and (x['Gas composition H2S']>=2 or x['Gas composition CO2']>=2 or x['Sulfur wt percent']>=0.5):\n",
    "        return 'Sour Gas'\n",
    "    else:\n",
    "        return 'Sweet Gas'    \n",
    "OCI_info['Sour or Sweet'] = OCI_info.apply(lambda x: sweet_sour(x),axis =1)\n",
    "#coordinates = pd.read_csv(sp_dir + '/Upstream/upstream_data_pipeline_sp/Inputs/coordinates.csv')\n",
    "# ## Fuzzy match to coordinates table field names\n",
    "# from fuzzywuzzy import process\n",
    "\n",
    "# def field_match(row,list_fields):\n",
    "#     m = process.extractOne(row['Field Name'],list_fields)\n",
    "#     row['matched_field']=m[0]\n",
    "#     row['match_score']=m[1]\n",
    "#     return row\n"
   ],
   "outputs": [],
   "metadata": {}
  },
  {
   "cell_type": "code",
   "execution_count": 9,
   "source": [
    "# match_table = OCI_info[['Field Name','Country']].drop_duplicates().apply(lambda x: field_match(x, coordinates['Field Name'].to_list()),axis =1 )\n",
    "# match_table.to_csv(sp_dir + '/Upstream/upstream_data_pipeline_sp/Inputs/field_match.csv',index = False)\n",
    "coordinates = pd.read_csv(sp_dir + '/Upstream/upstream_data_pipeline_sp/Inputs/coordinates.csv')\n",
    "match_table = pd.read_csv(sp_dir + '/Upstream/upstream_data_pipeline_sp/Inputs/field_match.csv')\n",
    "select_coordinates = match_table.merge(coordinates,left_on = ['matched_field'],right_on = ['Field Name'], how = 'left',indicator = True)\n",
    "select_coordinates[select_coordinates['_merge']!='both']\n",
    "select_coordinates = select_coordinates[['Field Name_x','Country_y','Region','Latitude','Longitude']]\n",
    "select_coordinates.rename(columns = {'Field Name_x':'Field Name'}, inplace = True)\n",
    "OCI_info = OCI_info.merge(select_coordinates, how = 'left',indicator = True)\n",
    "def region_mod(x):\n",
    "    if x in(['Africa','South America','North America','Oceania','Asia']):\n",
    "        return x+'n'\n",
    "    elif x in(['Middle East','Caribbean','Former Soviet Union']):\n",
    "        return x\n",
    "    else:\n",
    "        return x\n",
    "\n",
    "OCI_info['Region_m']=OCI_info['Region'].apply(region_mod)\n",
    "\n",
    "OCI_info['descriptor']= (\n",
    "        'The '\n",
    "        + OCI_info['Field Name']\n",
    "        +' field is located in '\n",
    "        + OCI_info['Country']\n",
    "        + '. This '\n",
    "        + OCI_info['Region_m']\n",
    "        + ' region asset is classified as '\n",
    "        + OCI_info['Resource type'].apply(lambda x: x.lower())\n",
    "        + '. All produced liquids are processed in a '\n",
    "        + OCI_info['Default Refinery Configuration'].apply(lambda x: x.lower())\n",
    "        + ' refinery assuming the following oil assay: '\n",
    "        + OCI_info['Assay Name']\n",
    "        + '. Following are the detailed resource characteristics modeled in the OCI+.')\n",
    "\n",
    "OCI_info.drop(columns = 'Region_m',inplace = True)\n"
   ],
   "outputs": [],
   "metadata": {}
  },
  {
   "cell_type": "code",
   "execution_count": 10,
   "source": [
    "# Rounding columns\n",
    "OCI_info = OCI_info.round({\n",
    "    '2020 Total Oil and Gas Production Volume (boe)':0,\n",
    "    'Max Depth(ft)':0,\n",
    "    'Heating Value Processed Oil and Gas (MJ/d)':0,\n",
    "    'Years in Production':0,\n",
    "    'Number of Producing Wells':0,\n",
    "    '2020 Crude Production Volume (bbl)':0,\n",
    "    'API Gravity':0,\n",
    "    'Sulfur Content Weight Percent':2,\n",
    "    'Water-to-oil Ratio (bbl water/bbl oil)':1,\n",
    "    'Gas-to-Oil Ratio (scf/bbl)':1,\n",
    "    'Flaring-to-Oil Ratio (scf flared/bbl)':1,\n",
    "    'Upstream Methane Intensity (kgCH4/boe)':3,\n",
    "    'Midstream Methane Intensity (kgCH4/boe)':3,\n",
    "    'Downstream Methane Intensity (kgCH4/boe)':3,\n",
    "    'Total Methane Intensity (kgCH4/boe)':3,\n",
    "    'Upstream Methane Emission Rate (NGSI Standard %)':3,\n",
    "    'Upstream Methane Emission Rate (gCH4/Total MJ Produced)':3,\n",
    "    'Gas composition H2S':1,\n",
    "    'Gas composition CO2':1,\n",
    "    'Gas composition C1':1,\n",
    "    'Total Emission Carbon Intensity (kgCO2eq/boe)': 0,\n",
    "    'Upstream Carbon Intensity (kgCO2eq/boe)':0,\n",
    "    'Midstream Carbon Intensity (kgCO2eq/boe)':0,\n",
    "    'Downstream Carbon Intensity (kgCO2eq/boe)':0})"
   ],
   "outputs": [],
   "metadata": {}
  },
  {
   "cell_type": "code",
   "execution_count": 11,
   "source": [
    "#Create info_base\n",
    "info_base_cols = ['Country', 'Field Name', 'Assay Name', '2020 Total Oil and Gas Production Volume (boe)', 'Location', 'Max Depth(ft)', 'Gas shipped as LNG', 'Enhanced recovery', 'Fracked', 'Default Refinery Configuration',\n",
    "'Heating Value Processed Oil and Gas (MJ/d)', 'Years in Production', 'Number of Producing Wells', '2020 Crude Production Volume (bbl)', \n",
    "'Region', 'Latitude', 'Longitude', 'API Gravity', 'Sulfur Content Weight Percent', 'Water-to-oil Ratio (bbl water/bbl oil)', \n",
    "'Gas-to-Oil Ratio (scf/bbl)', 'Flaring-to-Oil Ratio (scf flared/bbl)', 'Upstream Methane Intensity (kgCH4/boe)', \n",
    "'Midstream Methane Intensity (kgCH4/boe)', 'Downstream Methane Intensity (kgCH4/boe)', 'Total Methane Intensity (kgCH4/boe)',\n",
    "'Upstream Methane Emission Rate (NGSI Standard %)', 'Upstream Methane Emission Rate (gCH4/Total MJ Produced)', 'Gas composition H2S',\n",
    "'Gas composition CO2', 'Gas composition C1', 'Flare Rate', 'OPEC', 'Oil or Gas', 'Resource Type', 'Sour or Sweet', 'descriptor']\n",
    "OCI_info.drop(columns = '_merge', inplace = True)\n",
    "coordinates = pd.read_csv(sp_dir + '/Upstream/upstream_data_pipeline_sp/Inputs/coordinates.csv')\n",
    "match_table = pd.read_csv(sp_dir + '/Upstream/upstream_data_pipeline_sp/Inputs/field_match.csv')\n",
    "select_coordinates = match_table.merge(coordinates,left_on = ['matched_field'],right_on = ['Field Name'], how = 'left',indicator = True)\n",
    "select_coordinates[select_coordinates['_merge']!='both']\n",
    "select_coordinates = select_coordinates[['Field Name_x','Country_y','Region','Latitude','Longitude']]\n",
    "select_coordinates.rename(columns = {'Field Name_x':'Field Name'}, inplace = True)\n",
    "OCI_info = OCI_info.merge(select_coordinates, how = 'left',indicator = True)\n",
    "def region_mod(x):\n",
    "    if x in['Asia','Oceania']:\n",
    "        return 'Asia-Pacific'\n",
    "    elif x in(['Africa','South America','North America']):\n",
    "        return x+'n'\n",
    "    elif x in(['Middle East','Caribbean','Former Soviet Union']):\n",
    "        return x\n",
    "    else:\n",
    "        return x\n",
    "\n",
    "OCI_info['Region_m']=OCI_info['Region'].apply(region_mod)\n"
   ],
   "outputs": [],
   "metadata": {}
  },
  {
   "cell_type": "code",
   "execution_count": 12,
   "source": [
    "\n",
    "OCI_info['descriptor']= (\n",
    "        'The '\n",
    "        + OCI_info['Field Name']\n",
    "        +' field is located in '\n",
    "        + OCI_info['Country']\n",
    "        + '. This '\n",
    "        + OCI_info['Region_m']\n",
    "        + ' region asset is classified as '\n",
    "        + OCI_info['Resource type'].apply(lambda x: x.lower())\n",
    "        + '. All produced liquids are processed in a '\n",
    "        + OCI_info['Default Refinery Configuration'].apply(lambda x: x.lower())\n",
    "        + ' refinery assuming the following oil assay: '\n",
    "        + OCI_info['Assay Name']\n",
    "        + '. Following are the detailed resource characteristics modeled in the OCI+.')\n",
    "\n",
    "OCI_info.drop(columns = 'Region_m',inplace = True)\n"
   ],
   "outputs": [],
   "metadata": {}
  },
  {
   "cell_type": "markdown",
   "source": [
    "# Snaglist for webtool updates"
   ],
   "metadata": {}
  },
  {
   "cell_type": "code",
   "execution_count": 13,
   "source": [
    "# Round all numbers > 1 to a whole number\n",
    "# Round all numbers < 1 to two decimal places \n",
    "OCI_info['2020 Total Oil and Gas Production Volume (boe)'] = OCI_info['2020 Total Oil and Gas Production Volume (boe)'].apply(lambda x: round(x,0) if x > 1 else round(x,2))\n",
    "OCI_info['Max Depth (ft)'] = OCI_info['Max Depth (ft)'].apply(lambda x: round(x,0) if x > 1 else round(x,2))\n",
    "OCI_info['Water-to-oil Ratio (bbl water/bbl oil)'] = OCI_info['Water-to-oil Ratio (bbl water/bbl oil)'].apply(lambda x: round(x,0) if x > 1 else round(x,2))\n",
    "OCI_info['Gas-to-Oil Ratio (scf/bbl)'] = OCI_info['Gas-to-Oil Ratio (scf/bbl)'].apply(lambda x: round(x,0) if x > 1 else round(x,2))\n",
    "OCI_info['Flaring-to-Oil Ratio (scf flared/bbl)'] = OCI_info['Flaring-to-Oil Ratio (scf flared/bbl)'].apply(lambda x: round(x,0) if x > 1 else round(x,2))\n",
    "OCI_info['Steam-to-Oil Ratio (bbl steam/bbl oil)'] = OCI_info['Steam-to-Oil Ratio (bbl steam/bbl oil)'].apply(lambda x: round(x,0) if x > 1 else round(x,2))\n",
    "OCI_info['2020 Crude Production Volume (bbl)'] = OCI_info['2020 Crude Production Volume (bbl)'].apply(lambda x: round(x,0) if x > 1 else round(x,2))\n",
    "OCI_info['Upstream Methane Intensity (kgCH4/boe)'] = OCI_info['Upstream Methane Intensity (kgCH4/boe)'].apply(lambda x: round(x,0) if x > 1 else round(x,2))\n",
    "OCI_info['Midstream Methane Intensity (kgCH4/boe)'] = OCI_info['Midstream Methane Intensity (kgCH4/boe)'].apply(lambda x: round(x,0) if x > 1 else round(x,2))\n",
    "OCI_info['Downstream Methane Intensity (kgCH4/boe)'] = OCI_info['Downstream Methane Intensity (kgCH4/boe)'].apply(lambda x: round(x,0) if x > 1 else round(x,2))\n",
    "OCI_info['Total Methane Intensity (kgCH4/boe)'] = OCI_info['Total Methane Intensity (kgCH4/boe)'].apply(lambda x: round(x,0) if x > 1 else round(x,2))\n",
    "OCI_info['Upstream: Exploration (kgCO2eq/boe)'] = OCI_info['Upstream: Exploration (kgCO2eq/boe)'].apply(lambda x: round(x,0) if x > 1 else round(x,2))\n",
    "OCI_info['Upstream: Drilling & Development (kgCO2eq/boe)'] = OCI_info['Upstream: Drilling & Development (kgCO2eq/boe)'].apply(lambda x: round(x,0) if x > 1 else round(x,2))\n",
    "OCI_info['Upstream: Crude Production & Extraction (kgCO2eq/boe)'] = OCI_info['Upstream: Crude Production & Extraction (kgCO2eq/boe)'].apply(lambda x: round(x,0) if x > 1 else round(x,2))\n",
    "OCI_info['Upstream: Surface Processing (kgCO2eq/boe)'] = OCI_info['Upstream: Surface Processing (kgCO2eq/boe)'].apply(lambda x: round(x,0) if x > 1 else round(x,2))\n",
    "OCI_info['Upstream: Maintenance (kgCO2eq/boe)'] = OCI_info['Upstream: Maintenance (kgCO2eq/boe)'].apply(lambda x: round(x,0) if x > 1 else round(x,2))\n",
    "OCI_info['Upstream: Waste Disposal (kgCO2eq/boe)'] = OCI_info['Upstream: Waste Disposal (kgCO2eq/boe)'].apply(lambda x: round(x,0) if x > 1 else round(x,2))\n",
    "OCI_info['Upstream: Crude Transport (kgCO2eq/boe)'] = OCI_info['Upstream: Crude Transport (kgCO2eq/boe)'].apply(lambda x: round(x,0) if x > 1 else round(x,2))\n",
    "OCI_info['Upstream: Other Small Sources (kgCO2eq/boe)'] = OCI_info['Upstream: Other Small Sources (kgCO2eq/boe)'].apply(lambda x: round(x,0) if x > 1 else round(x,2))\n",
    "OCI_info['Upstream: Offsite emissions credit/debit (kgCO2eq/boe)'] = OCI_info['Upstream: Offsite emissions credit/debit (kgCO2eq/boe)'].apply(lambda x: round(x,0) if x > 1 else round(x,2))\n",
    "OCI_info['Upstream: Carbon Dioxide Sequestration (kgCO2eq/boe)'] = OCI_info['Upstream: Carbon Dioxide Sequestration (kgCO2eq/boe)'].apply(lambda x: round(x,0) if x > 1 else round(x,2))\n",
    "OCI_info['Upstream Carbon Intensity (kgCO2eq/boe)'] = OCI_info['Upstream Carbon Intensity (kgCO2eq/boe)'].apply(lambda x: round(x,0) if x > 1 else round(x,2))\n",
    "OCI_info['Midstream: Electricity (kgCO2eq/boe)'] = OCI_info['Midstream: Electricity (kgCO2eq/boe)'].apply(lambda x: round(x,0) if x > 1 else round(x,2))\n",
    "OCI_info['Midstream: Heat (kgCO2eq/boe)'] = OCI_info['Midstream: Heat (kgCO2eq/boe)'].apply(lambda x: round(x,0) if x > 1 else round(x,2))\n",
    "OCI_info['Midstream: Steam (kgCO2eq/boe)'] = OCI_info['Midstream: Steam (kgCO2eq/boe)'].apply(lambda x: round(x,0) if x > 1 else round(x,2))\n",
    "OCI_info['Midstream: Hydrogen via SMR (kgCO2eq/boe)'] = OCI_info['Midstream: Hydrogen via SMR (kgCO2eq/boe)'].apply(lambda x: round(x,0) if x > 1 else round(x,2))\n",
    "OCI_info['Midstream: Hydrogen via CNR (kgCO2eq/boe)'] = OCI_info['Midstream: Hydrogen via CNR (kgCO2eq/boe)'].apply(lambda x: round(x,0) if x > 1 else round(x,2))\n",
    "OCI_info['Midstream: Other Emissions (kgCO2eq/boe)'] = OCI_info['Midstream: Other Emissions (kgCO2eq/boe)'].apply(lambda x: round(x,0) if x > 1 else round(x,2))\n",
    "OCI_info['Midstream Carbon Intensity (kgCO2eq/boe)'] = OCI_info['Midstream Carbon Intensity (kgCO2eq/boe)'].apply(lambda x: round(x,0) if x > 1 else round(x,2))\n",
    "OCI_info['Downstream: Transport of Petroleum Products to Consumers (kgCO2eq/boe)'] = OCI_info['Downstream: Transport of Petroleum Products to Consumers (kgCO2eq/boe)'].apply(lambda x: round(x,0) if x > 1 else round(x,2))\n",
    "OCI_info['Downstream: Transport of LNG to Consumers (kgCO2eq/boe)'] = OCI_info['Downstream: Transport of LNG to Consumers (kgCO2eq/boe)'].apply(lambda x: round(x,0) if x > 1 else round(x,2))\n",
    "OCI_info['Downstream: Transport of Pipeline Gas to Consumers (kgCO2eq/boe)'] = OCI_info['Downstream: Transport of Pipeline Gas to Consumers (kgCO2eq/boe)'].apply(lambda x: round(x,0) if x > 1 else round(x,2))\n",
    "OCI_info['Downstream: Gasoline for Cars (kgCO2eq/boe)'] = OCI_info['Downstream: Gasoline for Cars (kgCO2eq/boe)'].apply(lambda x: round(x,0) if x > 1 else round(x,2))\n",
    "OCI_info['Downstream: Jet Fuel for Planes (kgCO2eq/boe)'] = OCI_info['Downstream: Jet Fuel for Planes (kgCO2eq/boe)'].apply(lambda x: round(x,0) if x > 1 else round(x,2))\n",
    "OCI_info['Downstream: Diesel for Trucks and Engines (kgCO2eq/boe)'] = OCI_info['Downstream: Diesel for Trucks and Engines (kgCO2eq/boe)'].apply(lambda x: round(x,0) if x > 1 else round(x,2))\n",
    "OCI_info['Downstream: Fuel Oil for Boilers (kgCO2eq/boe)'] = OCI_info['Downstream: Fuel Oil for Boilers (kgCO2eq/boe)'].apply(lambda x: round(x,0) if x > 1 else round(x,2))\n",
    "OCI_info['Downstream: Petroleum Coke for Power (kgCO2eq/boe)'] = OCI_info['Downstream: Petroleum Coke for Power (kgCO2eq/boe)'].apply(lambda x: round(x,0) if x > 1 else round(x,2))\n",
    "OCI_info['Downstream: Liquid Heavy Ends for Ships (kgCO2eq/boe)'] = OCI_info['Downstream: Liquid Heavy Ends for Ships (kgCO2eq/boe)'].apply(lambda x: round(x,0) if x > 1 else round(x,2))\n",
    "OCI_info['Downstream: Natural Gas Liquids (kgCO2eq/boe)'] = OCI_info['Downstream: Natural Gas Liquids (kgCO2eq/boe)'].apply(lambda x: round(x,0) if x > 1 else round(x,2))\n",
    "OCI_info['Downstream: Liquefied Petroleum Gases (kgCO2eq/boe)'] = OCI_info['Downstream: Liquefied Petroleum Gases (kgCO2eq/boe)'].apply(lambda x: round(x,0) if x > 1 else round(x,2))\n",
    "OCI_info['Downstream: Petrochemical Feedstocks (kgCO2eq/boe)'] = OCI_info['Downstream: Petrochemical Feedstocks (kgCO2eq/boe)'].apply(lambda x: round(x,0) if x > 1 else round(x,2))\n",
    "OCI_info['Downstream: Natural Gas (kgCO2eq/boe)'] = OCI_info['Downstream: Natural Gas (kgCO2eq/boe)'].apply(lambda x: round(x,0) if x > 1 else round(x,2))\n",
    "OCI_info['Downstream Carbon Intensity (kgCO2eq/boe)'] = OCI_info['Downstream Carbon Intensity (kgCO2eq/boe)'].apply(lambda x: round(x,0) if x > 1 else round(x,2))\n",
    "OCI_info['Total Emission Carbon Intensity (kgCO2eq/boe)'] = OCI_info['Total Emission Carbon Intensity (kgCO2eq/boe)'].apply(lambda x: round(x,0) if x > 1 else round(x,2))\n",
    "OCI_info['Industry GHG Responsibility (kgCO2eq/boe)'] = OCI_info['Industry GHG Responsibility (kgCO2eq/boe)'].apply(lambda x: round(x,0) if x > 1 else round(x,2))\n",
    "OCI_info['Consumer GHG Responsibility (kgCO2eq/boe)'] = OCI_info['Consumer GHG Responsibility (kgCO2eq/boe)'].apply(lambda x: round(x,0) if x > 1 else round(x,2))\n",
    "OCI_info['API gravity'] = OCI_info['API gravity'].apply(lambda x: round(x,0) if x > 1 else round(x,2))\n",
    "OCI_info['Sulfur wt percent'] = OCI_info['Sulfur wt percent'].apply(lambda x: round(x,0) if x > 1 else round(x,2))\n"
   ],
   "outputs": [],
   "metadata": {}
  },
  {
   "cell_type": "code",
   "execution_count": 14,
   "source": [
    "# # Change heating value into scientific notation (there are too many commas)\n",
    "# for i in range(len(OCI_info)):\n",
    "#     OCI_info['Heating Value Processed Oil and Gas (MJ/d)'][i] = \"{:e}\".format(OCI_info['Heating Value Processed Oil and Gas (MJ/d)'][i])\n"
   ],
   "outputs": [],
   "metadata": {}
  },
  {
   "cell_type": "code",
   "execution_count": 15,
   "source": [
    "# # Add a comma to all numbers > 1000 and change to a string\n",
    "# OCI_info['2020 Total Oil and Gas Production Volume (boe)'] = OCI_info['2020 Total Oil and Gas Production Volume (boe)'].apply(lambda x: \"{:,}\".format(x))\n",
    "# OCI_info['Max Depth(ft)'] = OCI_info['Max Depth(ft)'].apply(lambda x: \"{:,}\".format(x))\n",
    "# OCI_info['Water-to-oil Ratio (bbl water/bbl oil)'] = OCI_info['Water-to-oil Ratio (bbl water/bbl oil)'].apply(lambda x: \"{:,}\".format(x))\n",
    "# OCI_info['Gas-to-Oil Ratio (scf/bbl)'] = OCI_info['Gas-to-Oil Ratio (scf/bbl)'].apply(lambda x: \"{:,}\".format(x))\n",
    "# OCI_info['Flaring-to-Oil Ratio (scf flared/bbl)'] = OCI_info['Flaring-to-Oil Ratio (scf flared/bbl)'].apply(lambda x: \"{:,}\".format(x))\n",
    "# OCI_info['Steam-to-Oil Ratio (bbl steam/bbl oil)'] = OCI_info['Steam-to-Oil Ratio (bbl steam/bbl oil)'].apply(lambda x: \"{:,}\".format(x))\n",
    "# OCI_info['2020 Crude Production Volume (bbl)'] = OCI_info['2020 Crude Production Volume (bbl)'].apply(lambda x: \"{:,}\".format(x))\n",
    "# OCI_info['Upstream Methane Intensity (kgCH4/boe)'] = OCI_info['Upstream Methane Intensity (kgCH4/boe)'].apply(lambda x: \"{:,}\".format(x))\n",
    "# OCI_info['Midstream Methane Intensity (kgCH4/boe)'] = OCI_info['Midstream Methane Intensity (kgCH4/boe)'].apply(lambda x: \"{:,}\".format(x))\n",
    "# OCI_info['Downstream Methane Intensity (kgCH4/boe)'] = OCI_info['Downstream Methane Intensity (kgCH4/boe)'].apply(lambda x: \"{:,}\".format(x))\n",
    "# OCI_info['Total Methane Intensity (kgCH4/boe)'] = OCI_info['Total Methane Intensity (kgCH4/boe)'].apply(lambda x: \"{:,}\".format(x))\n",
    "# OCI_info['Upstream: Exploration (kgCO2eq/boe)'] = OCI_info['Upstream: Exploration (kgCO2eq/boe)'].apply(lambda x: \"{:,}\".format(x))\n",
    "# OCI_info['Upstream: Drilling & Development (kgCO2eq/boe)'] = OCI_info['Upstream: Drilling & Development (kgCO2eq/boe)'].apply(lambda x: \"{:,}\".format(x))\n",
    "# OCI_info['Upstream: Crude Production & Extraction (kgCO2eq/boe)'] = OCI_info['Upstream: Crude Production & Extraction (kgCO2eq/boe)'].apply(lambda x: \"{:,}\".format(x))\n",
    "# OCI_info['Upstream: Surface Processing (kgCO2eq/boe)'] = OCI_info['Upstream: Surface Processing (kgCO2eq/boe)'].apply(lambda x: \"{:,}\".format(x))\n",
    "# OCI_info['Upstream: Maintenance (kgCO2eq/boe)'] = OCI_info['Upstream: Maintenance (kgCO2eq/boe)'].apply(lambda x: \"{:,}\".format(x))\n",
    "# OCI_info['Upstream: Waste Disposal (kgCO2eq/boe)'] = OCI_info['Upstream: Waste Disposal (kgCO2eq/boe)'].apply(lambda x: \"{:,}\".format(x))\n",
    "# OCI_info['Upstream: Crude Transport (kgCO2eq/boe)'] = OCI_info['Upstream: Crude Transport (kgCO2eq/boe)'].apply(lambda x: \"{:,}\".format(x))\n",
    "# OCI_info['Upstream: Other Small Sources (kgCO2eq/boe)'] = OCI_info['Upstream: Other Small Sources (kgCO2eq/boe)'].apply(lambda x: \"{:,}\".format(x))\n",
    "# OCI_info['Upstream: Offsite emissions credit/debit (kgCO2eq/boe)'] = OCI_info['Upstream: Offsite emissions credit/debit (kgCO2eq/boe)'].apply(lambda x: \"{:,}\".format(x))\n",
    "# OCI_info['Upstream: Carbon Dioxide Sequestration (kgCO2eq/boe)'] = OCI_info['Upstream: Carbon Dioxide Sequestration (kgCO2eq/boe)'].apply(lambda x: \"{:,}\".format(x))\n",
    "# OCI_info['Upstream Carbon Intensity (kgCO2eq/boe)'] = OCI_info['Upstream Carbon Intensity (kgCO2eq/boe)'].apply(lambda x: \"{:,}\".format(x))\n",
    "# OCI_info['Midstream: Electricity (kgCO2eq/boe)'] = OCI_info['Midstream: Electricity (kgCO2eq/boe)'].apply(lambda x: \"{:,}\".format(x))\n",
    "# OCI_info['Midstream: Heat (kgCO2eq/boe)'] = OCI_info['Midstream: Heat (kgCO2eq/boe)'].apply(lambda x: \"{:,}\".format(x))\n",
    "# OCI_info['Midstream: Steam (kgCO2eq/boe)'] = OCI_info['Midstream: Steam (kgCO2eq/boe)'].apply(lambda x: \"{:,}\".format(x))\n",
    "# OCI_info['Midstream: Hydrogen via SMR (kgCO2eq/boe)'] = OCI_info['Midstream: Hydrogen via SMR (kgCO2eq/boe)'].apply(lambda x: \"{:,}\".format(x))\n",
    "# OCI_info['Midstream: Hydrogen via CNR (kgCO2eq/boe)'] = OCI_info['Midstream: Hydrogen via CNR (kgCO2eq/boe)'].apply(lambda x: \"{:,}\".format(x))\n",
    "# OCI_info['Midstream: Other Emissions (kgCO2eq/boe)'] = OCI_info['Midstream: Other Emissions (kgCO2eq/boe)'].apply(lambda x: \"{:,}\".format(x))\n",
    "# OCI_info['Midstream Carbon Intensity (kgCO2eq/boe)'] = OCI_info['Midstream Carbon Intensity (kgCO2eq/boe)'].apply(lambda x: \"{:,}\".format(x))\n",
    "# OCI_info['Downstream: Transport of Petroleum Products to Consumers (kgCO2eq/boe)'] = OCI_info['Downstream: Transport of Petroleum Products to Consumers (kgCO2eq/boe)'].apply(lambda x: \"{:,}\".format(x))\n",
    "# OCI_info['Downstream: Transport of LNG to Consumers (kgCO2eq/boe)'] = OCI_info['Downstream: Transport of LNG to Consumers (kgCO2eq/boe)'].apply(lambda x: \"{:,}\".format(x))\n",
    "# OCI_info['Downstream: Transport of Pipeline Gas to Consumers (kgCO2eq/boe)'] = OCI_info['Downstream: Transport of Pipeline Gas to Consumers (kgCO2eq/boe)'].apply(lambda x: \"{:,}\".format(x))\n",
    "# OCI_info['Downstream: Gasoline for Cars (kgCO2eq/boe)'] = OCI_info['Downstream: Gasoline for Cars (kgCO2eq/boe)'].apply(lambda x: \"{:,}\".format(x))\n",
    "# OCI_info['Downstream: Jet Fuel for Planes (kgCO2eq/boe)'] = OCI_info['Downstream: Jet Fuel for Planes (kgCO2eq/boe)'].apply(lambda x: \"{:,}\".format(x))\n",
    "# OCI_info['Downstream: Diesel for Trucks and Engines (kgCO2eq/boe)'] = OCI_info['Downstream: Diesel for Trucks and Engines (kgCO2eq/boe)'].apply(lambda x: \"{:,}\".format(x))\n",
    "# OCI_info['Downstream: Fuel Oil for Boilers (kgCO2eq/boe)'] = OCI_info['Downstream: Fuel Oil for Boilers (kgCO2eq/boe)'].apply(lambda x: \"{:,}\".format(x))\n",
    "# OCI_info['Downstream: Petroleum Coke for Power (kgCO2eq/boe)'] = OCI_info['Downstream: Petroleum Coke for Power (kgCO2eq/boe)'].apply(lambda x: \"{:,}\".format(x))\n",
    "# OCI_info['Downstream: Liquid Heavy Ends for Ships (kgCO2eq/boe)'] = OCI_info['Downstream: Liquid Heavy Ends for Ships (kgCO2eq/boe)'].apply(lambda x: \"{:,}\".format(x))\n",
    "# OCI_info['Downstream: Natural Gas Liquids (kgCO2eq/boe)'] = OCI_info['Downstream: Natural Gas Liquids (kgCO2eq/boe)'].apply(lambda x: \"{:,}\".format(x))\n",
    "# OCI_info['Downstream: Liquefied Petroleum Gases (kgCO2eq/boe)'] = OCI_info['Downstream: Liquefied Petroleum Gases (kgCO2eq/boe)'].apply(lambda x: \"{:,}\".format(x))\n",
    "# OCI_info['Downstream: Petrochemical Feedstocks (kgCO2eq/boe)'] = OCI_info['Downstream: Petrochemical Feedstocks (kgCO2eq/boe)'].apply(lambda x: \"{:,}\".format(x))\n",
    "# OCI_info['Downstream: Natural Gas (kgCO2eq/boe)'] = OCI_info['Downstream: Natural Gas (kgCO2eq/boe)'].apply(lambda x: \"{:,}\".format(x))\n",
    "# OCI_info['Downstream Carbon Intensity (kgCO2eq/boe)'] = OCI_info['Downstream Carbon Intensity (kgCO2eq/boe)'].apply(lambda x: \"{:,}\".format(x))\n",
    "# OCI_info['Total Emission Carbon Intensity (kgCO2eq/boe)'] = OCI_info['Total Emission Carbon Intensity (kgCO2eq/boe)'].apply(lambda x: \"{:,}\".format(x))\n",
    "# OCI_info['Industry GHG Responsibility (kgCO2eq/boe)'] = OCI_info['Industry GHG Responsibility (kgCO2eq/boe)'].apply(lambda x: \"{:,}\".format(x))\n",
    "# OCI_info['Consumer GHG Responsibility (kgCO2eq/boe)'] = OCI_info['Consumer GHG Responsibility (kgCO2eq/boe)'].apply(lambda x: \"{:,}\".format(x))\n",
    "# OCI_info['API Gravity'] = OCI_info['API Gravity'].apply(lambda x: \"{:,}\".format(x))\n",
    "# OCI_info['Sulfur Content Weight Percent'] = OCI_info['Sulfur Content Weight Percent'].apply(lambda x: \"{:,}\".format(x))"
   ],
   "outputs": [],
   "metadata": {}
  },
  {
   "cell_type": "code",
   "execution_count": 16,
   "source": [
    "# Round all upstream, midstream, and downstream emissions intensity to 2 decimal places\n",
    "# This will hopefully fix issues of carbon fee sometimes being 3+ decimal places"
   ],
   "outputs": [],
   "metadata": {}
  },
  {
   "cell_type": "markdown",
   "source": [
    "# Create info100 and info20 from OCI_info"
   ],
   "metadata": {}
  },
  {
   "cell_type": "code",
   "execution_count": 17,
   "source": [
    "OCI_info.rename(columns ={'Max Depth (ft)':'Max Depth(ft)','API gravity': 'API Gravity',\n",
    "'Sulfur wt percent': 'Sulfur Content Weight Percent', 'Resource type': 'Resource Type'},inplace = True)\n",
    "infobase = OCI_info[info_base_cols][OCI_info['gwp']==100]\n",
    "info_100_cols=['Country', 'Field Name', 'Upstream: Exploration (kgCO2eq/boe)', 'Upstream: Drilling & Development (kgCO2eq/boe)', \n",
    "'Upstream: Crude Production & Extraction (kgCO2eq/boe)', 'Upstream: Surface Processing (kgCO2eq/boe)', \n",
    "'Upstream: Maintenance (kgCO2eq/boe)', 'Upstream: Waste Disposal (kgCO2eq/boe)', 'Upstream: Crude Transport (kgCO2eq/boe)', \n",
    "'Upstream: Other Small Sources (kgCO2eq/boe)', 'Upstream: Offsite emissions credit/debit (kgCO2eq/boe)', \n",
    "'Upstream: Carbon Dioxide Sequestration (kgCO2eq/boe)', 'Upstream Carbon Intensity (kgCO2eq/boe)', \n",
    "'Midstream: Electricity (kgCO2eq/boe)', 'Midstream: Heat (kgCO2eq/boe)', 'Midstream: Steam (kgCO2eq/boe)', \n",
    "'Midstream: Hydrogen via SMR (kgCO2eq/boe)', 'Midstream: Hydrogen via CNR (kgCO2eq/boe)', \n",
    "'Midstream: Other Emissions (kgCO2eq/boe)', 'Midstream Carbon Intensity (kgCO2eq/boe)', \n",
    "'Downstream: Transport of Petroleum Products to Consumers (kgCO2eq/boe)', \n",
    "'Downstream: Transport of LNG to Consumers (kgCO2eq/boe)', \n",
    "'Downstream: Transport of Pipeline Gas to Consumers (kgCO2eq/boe)', \n",
    "'Downstream: Gasoline for Cars (kgCO2eq/boe)', 'Downstream: Jet Fuel for Planes (kgCO2eq/boe)', \n",
    "'Downstream: Diesel for Trucks and Engines (kgCO2eq/boe)', 'Downstream: Fuel Oil for Boilers (kgCO2eq/boe)', \n",
    "'Downstream: Petroleum Coke for Power (kgCO2eq/boe)', 'Downstream: Liquid Heavy Ends for Ships (kgCO2eq/boe)', \n",
    "'Downstream: Natural Gas Liquids (kgCO2eq/boe)', 'Downstream: Liquefied Petroleum Gases (kgCO2eq/boe)', \n",
    "'Downstream: Petrochemical Feedstocks (kgCO2eq/boe)', 'Downstream: Natural Gas (kgCO2eq/boe)', \n",
    "'Downstream Carbon Intensity (kgCO2eq/boe)', 'Total Emission Carbon Intensity (kgCO2eq/boe)', \n",
    "'Industry GHG Responsibility (kgCO2eq/boe)', 'Consumer GHG Responsibility (kgCO2eq/boe)']\n",
    "info100 = OCI_info[OCI_info['gwp']==100][info_100_cols]\n",
    "info20 = OCI_info[OCI_info['gwp']==20][info_100_cols]\n",
    "infobase['Fracked'] = infobase['Fracked'].apply(lambda x: bool(x))\n",
    "infobase['Gas shipped as LNG'] = infobase['Gas shipped as LNG'].apply(lambda x: bool(x))"
   ],
   "outputs": [],
   "metadata": {}
  },
  {
   "cell_type": "markdown",
   "source": [
    "# Write out to csvs"
   ],
   "metadata": {}
  },
  {
   "cell_type": "code",
   "execution_count": 18,
   "source": [
    "#Add timestamp to files\n",
    "today = str(date.today())\n",
    "print(\"Today's date:\", today)"
   ],
   "outputs": [
    {
     "output_type": "stream",
     "name": "stdout",
     "text": [
      "Today's date: 2022-11-21\n"
     ]
    }
   ],
   "metadata": {}
  },
  {
   "cell_type": "code",
   "execution_count": 41,
   "source": [
    "#Write out to csvs\n",
    "#OCI_info.to_csv(sp_dir + '/Upstream/upstream_data_pipeline_sp/Postprocessed_Outputs_2/info_'+today+'.csv',index = False)\n",
    "infobase.to_csv(sp_dir + '/Upstream/upstream_data_pipeline_sp/Postprocessed_outputs_2/infobase_'+today+'.csv')\n",
    "info20.to_csv(sp_dir + '/Upstream/upstream_data_pipeline_sp/Postprocessed_outputs_2/info20_'+today+'.csv')\n",
    "info100.to_csv(sp_dir + '/Upstream/upstream_data_pipeline_sp/Postprocessed_outputs_2/info100_'+today+'.csv')"
   ],
   "outputs": [],
   "metadata": {}
  },
  {
   "cell_type": "code",
   "execution_count": 23,
   "source": [
    "old_infobase = pd.read_csv(sp_dir +'/Upstream/upstream_data_pipeline_sp/Postprocessed_outputs_2/infobase.csv')"
   ],
   "outputs": [],
   "metadata": {}
  },
  {
   "cell_type": "code",
   "execution_count": 27,
   "source": [
    "len(old_infobase['Field Name'].unique())"
   ],
   "outputs": [
    {
     "output_type": "execute_result",
     "data": {
      "text/plain": [
       "114"
      ]
     },
     "metadata": {},
     "execution_count": 27
    }
   ],
   "metadata": {}
  },
  {
   "cell_type": "code",
   "execution_count": 29,
   "source": [
    "len(infobase['Field Name'].unique())"
   ],
   "outputs": [
    {
     "output_type": "execute_result",
     "data": {
      "text/plain": [
       "135"
      ]
     },
     "metadata": {},
     "execution_count": 29
    }
   ],
   "metadata": {}
  },
  {
   "cell_type": "code",
   "execution_count": 35,
   "source": [
    "infobase = infobase[infobase['Field Name'].isin(old_infobase['Field Name'])]"
   ],
   "outputs": [],
   "metadata": {}
  },
  {
   "cell_type": "code",
   "execution_count": 36,
   "source": [
    "info100 = info100[info100['Field Name'].isin(old_infobase['Field Name'])]"
   ],
   "outputs": [],
   "metadata": {}
  },
  {
   "cell_type": "code",
   "execution_count": 39,
   "source": [
    "info20 = info20[info20['Field Name'].isin(old_infobase['Field Name'])]"
   ],
   "outputs": [],
   "metadata": {}
  }
 ],
 "metadata": {
  "interpreter": {
   "hash": "5ccea0d9b7a70875400646c164148aa592b31bf40541a4c6f7aff7a306f1f8ff"
  },
  "kernelspec": {
   "name": "python3",
   "display_name": "Python 3.8.8 64-bit ('base': conda)"
  },
  "language_info": {
   "codemirror_mode": {
    "name": "ipython",
    "version": 3
   },
   "file_extension": ".py",
   "mimetype": "text/x-python",
   "name": "python",
   "nbconvert_exporter": "python",
   "pygments_lexer": "ipython3",
   "version": "3.8.8"
  }
 },
 "nbformat": 4,
 "nbformat_minor": 4
}